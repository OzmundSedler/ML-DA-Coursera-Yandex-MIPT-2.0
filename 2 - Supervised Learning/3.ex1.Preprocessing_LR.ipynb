{
  "nbformat": 4,
  "nbformat_minor": 0,
  "metadata": {
    "colab": {
      "name": "Preprocessing_LR.ipynb",
      "provenance": [],
      "collapsed_sections": [
        "TSFjR0evTmz1",
        "kWIMbGxfTmz5",
        "4O6yeFsdTm09"
      ]
    },
    "kernelspec": {
      "name": "python3",
      "display_name": "Python 3"
    },
    "accelerator": "GPU"
  },
  "cells": [
    {
      "cell_type": "markdown",
      "metadata": {
        "id": "9Sa1U12hTmzz",
        "colab_type": "text"
      },
      "source": [
        "## Data preprocessing and logistic regression for binary classification tasks"
      ]
    },
    {
      "cell_type": "markdown",
      "metadata": {
        "id": "TSFjR0evTmz1",
        "colab_type": "text"
      },
      "source": [
        "## Libs"
      ]
    },
    {
      "cell_type": "code",
      "metadata": {
        "id": "23Hvdu9eTmz2",
        "colab_type": "code",
        "colab": {}
      },
      "source": [
        "import pandas as pd\n",
        "import numpy as np\n",
        "import matplotlib\n",
        "from matplotlib import pyplot as plt\n",
        "matplotlib.style.use('ggplot')\n",
        "%matplotlib inline"
      ],
      "execution_count": 0,
      "outputs": []
    },
    {
      "cell_type": "markdown",
      "metadata": {
        "id": "kWIMbGxfTmz5",
        "colab_type": "text"
      },
      "source": [
        "## Dataset"
      ]
    },
    {
      "cell_type": "markdown",
      "metadata": {
        "id": "rR1234nFTmz5",
        "colab_type": "text"
      },
      "source": [
        "This dataset includes 249 features (or predictors). Participants should use these variables to predict the target variable (or outcome), \"Grant Status\". A grant status of 1 represents a successful grant application, while a grant status of 0 represents an unsuccessful application. \n",
        "\n",
        "The training dataset, which participants use to build their models, is unimelb_training.csv. It contains 8,707 grant applications from late 2005 to 2008. The test dataset, unimelb_test.csv, contains 2,176 grant applications from 2009 to mid 2010. The grant status variable is withheld from the test dataset.\n",
        "\n",
        "https://www.kaggle.com/c/unimelb."
      ]
    },
    {
      "cell_type": "code",
      "metadata": {
        "id": "SSZ9tbB4Tmz6",
        "colab_type": "code",
        "outputId": "6371a2f7-c981-4efa-9dae-572ff68b135d",
        "colab": {
          "base_uri": "https://localhost:8080/",
          "height": 34
        }
      },
      "source": [
        "data = pd.read_csv('https://raw.githubusercontent.com/OzmundSedler/100-Days-Of-ML-Code/master/week%201/datasets/data.csv')\n",
        "data.shape"
      ],
      "execution_count": 0,
      "outputs": [
        {
          "output_type": "execute_result",
          "data": {
            "text/plain": [
              "(6000, 39)"
            ]
          },
          "metadata": {
            "tags": []
          },
          "execution_count": 5
        }
      ]
    },
    {
      "cell_type": "code",
      "metadata": {
        "id": "Uqp_LM54fnx-",
        "colab_type": "code",
        "outputId": "e6771770-4333-429a-c637-980d79de4bcd",
        "colab": {
          "base_uri": "https://localhost:8080/",
          "height": 224
        }
      },
      "source": [
        "data.head()"
      ],
      "execution_count": 0,
      "outputs": [
        {
          "output_type": "execute_result",
          "data": {
            "text/html": [
              "<div>\n",
              "<style scoped>\n",
              "    .dataframe tbody tr th:only-of-type {\n",
              "        vertical-align: middle;\n",
              "    }\n",
              "\n",
              "    .dataframe tbody tr th {\n",
              "        vertical-align: top;\n",
              "    }\n",
              "\n",
              "    .dataframe thead th {\n",
              "        text-align: right;\n",
              "    }\n",
              "</style>\n",
              "<table border=\"1\" class=\"dataframe\">\n",
              "  <thead>\n",
              "    <tr style=\"text-align: right;\">\n",
              "      <th></th>\n",
              "      <th>Grant.Status</th>\n",
              "      <th>Sponsor.Code</th>\n",
              "      <th>Grant.Category.Code</th>\n",
              "      <th>Contract.Value.Band...see.note.A</th>\n",
              "      <th>RFCD.Code.1</th>\n",
              "      <th>RFCD.Percentage.1</th>\n",
              "      <th>RFCD.Code.2</th>\n",
              "      <th>RFCD.Percentage.2</th>\n",
              "      <th>RFCD.Code.3</th>\n",
              "      <th>RFCD.Percentage.3</th>\n",
              "      <th>RFCD.Code.4</th>\n",
              "      <th>RFCD.Percentage.4</th>\n",
              "      <th>RFCD.Code.5</th>\n",
              "      <th>RFCD.Percentage.5</th>\n",
              "      <th>SEO.Code.1</th>\n",
              "      <th>SEO.Percentage.1</th>\n",
              "      <th>SEO.Code.2</th>\n",
              "      <th>SEO.Percentage.2</th>\n",
              "      <th>SEO.Code.3</th>\n",
              "      <th>SEO.Percentage.3</th>\n",
              "      <th>SEO.Code.4</th>\n",
              "      <th>SEO.Percentage.4</th>\n",
              "      <th>SEO.Code.5</th>\n",
              "      <th>SEO.Percentage.5</th>\n",
              "      <th>Person.ID.1</th>\n",
              "      <th>Role.1</th>\n",
              "      <th>Year.of.Birth.1</th>\n",
              "      <th>Country.of.Birth.1</th>\n",
              "      <th>Home.Language.1</th>\n",
              "      <th>Dept.No..1</th>\n",
              "      <th>Faculty.No..1</th>\n",
              "      <th>With.PHD.1</th>\n",
              "      <th>No..of.Years.in.Uni.at.Time.of.Grant.1</th>\n",
              "      <th>Number.of.Successful.Grant.1</th>\n",
              "      <th>Number.of.Unsuccessful.Grant.1</th>\n",
              "      <th>A..1</th>\n",
              "      <th>A.1</th>\n",
              "      <th>B.1</th>\n",
              "      <th>C.1</th>\n",
              "    </tr>\n",
              "  </thead>\n",
              "  <tbody>\n",
              "    <tr>\n",
              "      <th>0</th>\n",
              "      <td>1</td>\n",
              "      <td>21A</td>\n",
              "      <td>50A</td>\n",
              "      <td>A</td>\n",
              "      <td>230202.0</td>\n",
              "      <td>50.0</td>\n",
              "      <td>230203.0</td>\n",
              "      <td>30.0</td>\n",
              "      <td>230204.0</td>\n",
              "      <td>20.0</td>\n",
              "      <td>0.0</td>\n",
              "      <td>0.0</td>\n",
              "      <td>0.0</td>\n",
              "      <td>0.0</td>\n",
              "      <td>780101.0</td>\n",
              "      <td>100.0</td>\n",
              "      <td>0.0</td>\n",
              "      <td>0.0</td>\n",
              "      <td>0.0</td>\n",
              "      <td>0.0</td>\n",
              "      <td>0.0</td>\n",
              "      <td>0.0</td>\n",
              "      <td>0.0</td>\n",
              "      <td>0.0</td>\n",
              "      <td>493297.0</td>\n",
              "      <td>CHIEF_INVESTIGATOR</td>\n",
              "      <td>1965.0</td>\n",
              "      <td>Australia</td>\n",
              "      <td>NaN</td>\n",
              "      <td>3098.0</td>\n",
              "      <td>31.0</td>\n",
              "      <td>Yes</td>\n",
              "      <td>&gt;=0 to 5</td>\n",
              "      <td>2.0</td>\n",
              "      <td>0.0</td>\n",
              "      <td>0.0</td>\n",
              "      <td>4.0</td>\n",
              "      <td>2.0</td>\n",
              "      <td>0.0</td>\n",
              "    </tr>\n",
              "    <tr>\n",
              "      <th>1</th>\n",
              "      <td>1</td>\n",
              "      <td>4D</td>\n",
              "      <td>10A</td>\n",
              "      <td>D</td>\n",
              "      <td>320801.0</td>\n",
              "      <td>100.0</td>\n",
              "      <td>0.0</td>\n",
              "      <td>0.0</td>\n",
              "      <td>0.0</td>\n",
              "      <td>0.0</td>\n",
              "      <td>0.0</td>\n",
              "      <td>0.0</td>\n",
              "      <td>0.0</td>\n",
              "      <td>0.0</td>\n",
              "      <td>730112.0</td>\n",
              "      <td>100.0</td>\n",
              "      <td>0.0</td>\n",
              "      <td>0.0</td>\n",
              "      <td>0.0</td>\n",
              "      <td>0.0</td>\n",
              "      <td>0.0</td>\n",
              "      <td>0.0</td>\n",
              "      <td>0.0</td>\n",
              "      <td>0.0</td>\n",
              "      <td>330592.0</td>\n",
              "      <td>CHIEF_INVESTIGATOR</td>\n",
              "      <td>1965.0</td>\n",
              "      <td>Australia</td>\n",
              "      <td>NaN</td>\n",
              "      <td>2553.0</td>\n",
              "      <td>25.0</td>\n",
              "      <td>Yes</td>\n",
              "      <td>&gt;=0 to 5</td>\n",
              "      <td>3.0</td>\n",
              "      <td>1.0</td>\n",
              "      <td>0.0</td>\n",
              "      <td>2.0</td>\n",
              "      <td>0.0</td>\n",
              "      <td>0.0</td>\n",
              "    </tr>\n",
              "    <tr>\n",
              "      <th>2</th>\n",
              "      <td>0</td>\n",
              "      <td>NaN</td>\n",
              "      <td>NaN</td>\n",
              "      <td>NaN</td>\n",
              "      <td>320602.0</td>\n",
              "      <td>50.0</td>\n",
              "      <td>321004.0</td>\n",
              "      <td>30.0</td>\n",
              "      <td>321015.0</td>\n",
              "      <td>20.0</td>\n",
              "      <td>0.0</td>\n",
              "      <td>0.0</td>\n",
              "      <td>0.0</td>\n",
              "      <td>0.0</td>\n",
              "      <td>730203.0</td>\n",
              "      <td>60.0</td>\n",
              "      <td>730105.0</td>\n",
              "      <td>20.0</td>\n",
              "      <td>730108.0</td>\n",
              "      <td>20.0</td>\n",
              "      <td>0.0</td>\n",
              "      <td>0.0</td>\n",
              "      <td>0.0</td>\n",
              "      <td>0.0</td>\n",
              "      <td>66887.0</td>\n",
              "      <td>CHIEF_INVESTIGATOR</td>\n",
              "      <td>1955.0</td>\n",
              "      <td>Australia</td>\n",
              "      <td>NaN</td>\n",
              "      <td>2813.0</td>\n",
              "      <td>25.0</td>\n",
              "      <td>NaN</td>\n",
              "      <td>Less than 0</td>\n",
              "      <td>1.0</td>\n",
              "      <td>5.0</td>\n",
              "      <td>0.0</td>\n",
              "      <td>7.0</td>\n",
              "      <td>2.0</td>\n",
              "      <td>0.0</td>\n",
              "    </tr>\n",
              "    <tr>\n",
              "      <th>3</th>\n",
              "      <td>0</td>\n",
              "      <td>51C</td>\n",
              "      <td>20C</td>\n",
              "      <td>A</td>\n",
              "      <td>291503.0</td>\n",
              "      <td>60.0</td>\n",
              "      <td>321402.0</td>\n",
              "      <td>40.0</td>\n",
              "      <td>0.0</td>\n",
              "      <td>0.0</td>\n",
              "      <td>0.0</td>\n",
              "      <td>0.0</td>\n",
              "      <td>0.0</td>\n",
              "      <td>0.0</td>\n",
              "      <td>730114.0</td>\n",
              "      <td>60.0</td>\n",
              "      <td>671401.0</td>\n",
              "      <td>40.0</td>\n",
              "      <td>0.0</td>\n",
              "      <td>0.0</td>\n",
              "      <td>0.0</td>\n",
              "      <td>0.0</td>\n",
              "      <td>0.0</td>\n",
              "      <td>0.0</td>\n",
              "      <td>63812.0</td>\n",
              "      <td>CHIEF_INVESTIGATOR</td>\n",
              "      <td>1950.0</td>\n",
              "      <td>Great Britain</td>\n",
              "      <td>NaN</td>\n",
              "      <td>2553.0</td>\n",
              "      <td>25.0</td>\n",
              "      <td>NaN</td>\n",
              "      <td>more than 15</td>\n",
              "      <td>2.0</td>\n",
              "      <td>1.0</td>\n",
              "      <td>5.0</td>\n",
              "      <td>6.0</td>\n",
              "      <td>9.0</td>\n",
              "      <td>1.0</td>\n",
              "    </tr>\n",
              "    <tr>\n",
              "      <th>4</th>\n",
              "      <td>0</td>\n",
              "      <td>24D</td>\n",
              "      <td>30B</td>\n",
              "      <td>NaN</td>\n",
              "      <td>380107.0</td>\n",
              "      <td>100.0</td>\n",
              "      <td>0.0</td>\n",
              "      <td>0.0</td>\n",
              "      <td>0.0</td>\n",
              "      <td>0.0</td>\n",
              "      <td>0.0</td>\n",
              "      <td>0.0</td>\n",
              "      <td>0.0</td>\n",
              "      <td>0.0</td>\n",
              "      <td>730108.0</td>\n",
              "      <td>50.0</td>\n",
              "      <td>730306.0</td>\n",
              "      <td>50.0</td>\n",
              "      <td>0.0</td>\n",
              "      <td>0.0</td>\n",
              "      <td>0.0</td>\n",
              "      <td>0.0</td>\n",
              "      <td>0.0</td>\n",
              "      <td>0.0</td>\n",
              "      <td>13687.0</td>\n",
              "      <td>CHIEF_INVESTIGATOR</td>\n",
              "      <td>1970.0</td>\n",
              "      <td>Australia</td>\n",
              "      <td>NaN</td>\n",
              "      <td>2923.0</td>\n",
              "      <td>25.0</td>\n",
              "      <td>NaN</td>\n",
              "      <td>Less than 0</td>\n",
              "      <td>0.0</td>\n",
              "      <td>2.0</td>\n",
              "      <td>0.0</td>\n",
              "      <td>0.0</td>\n",
              "      <td>0.0</td>\n",
              "      <td>0.0</td>\n",
              "    </tr>\n",
              "  </tbody>\n",
              "</table>\n",
              "</div>"
            ],
            "text/plain": [
              "   Grant.Status Sponsor.Code Grant.Category.Code  ...  A.1  B.1  C.1\n",
              "0             1          21A                 50A  ...  4.0  2.0  0.0\n",
              "1             1           4D                 10A  ...  2.0  0.0  0.0\n",
              "2             0          NaN                 NaN  ...  7.0  2.0  0.0\n",
              "3             0          51C                 20C  ...  6.0  9.0  1.0\n",
              "4             0          24D                 30B  ...  0.0  0.0  0.0\n",
              "\n",
              "[5 rows x 39 columns]"
            ]
          },
          "metadata": {
            "tags": []
          },
          "execution_count": 6
        }
      ]
    },
    {
      "cell_type": "code",
      "metadata": {
        "id": "f_dnVsKwfvIA",
        "colab_type": "code",
        "outputId": "9c8c307f-efe0-4e75-bb25-492e8fc05107",
        "colab": {
          "base_uri": "https://localhost:8080/",
          "height": 765
        }
      },
      "source": [
        "data.info()"
      ],
      "execution_count": 0,
      "outputs": [
        {
          "output_type": "stream",
          "text": [
            "<class 'pandas.core.frame.DataFrame'>\n",
            "RangeIndex: 6000 entries, 0 to 5999\n",
            "Data columns (total 39 columns):\n",
            "Grant.Status                              6000 non-null int64\n",
            "Sponsor.Code                              5387 non-null object\n",
            "Grant.Category.Code                       5387 non-null object\n",
            "Contract.Value.Band...see.note.A          3539 non-null object\n",
            "RFCD.Code.1                               5583 non-null float64\n",
            "RFCD.Percentage.1                         5583 non-null float64\n",
            "RFCD.Code.2                               5583 non-null float64\n",
            "RFCD.Percentage.2                         5583 non-null float64\n",
            "RFCD.Code.3                               5583 non-null float64\n",
            "RFCD.Percentage.3                         5583 non-null float64\n",
            "RFCD.Code.4                               5583 non-null float64\n",
            "RFCD.Percentage.4                         5583 non-null float64\n",
            "RFCD.Code.5                               5583 non-null float64\n",
            "RFCD.Percentage.5                         5583 non-null float64\n",
            "SEO.Code.1                                5561 non-null float64\n",
            "SEO.Percentage.1                          5561 non-null float64\n",
            "SEO.Code.2                                5561 non-null float64\n",
            "SEO.Percentage.2                          5561 non-null float64\n",
            "SEO.Code.3                                5561 non-null float64\n",
            "SEO.Percentage.3                          5561 non-null float64\n",
            "SEO.Code.4                                5561 non-null float64\n",
            "SEO.Percentage.4                          5561 non-null float64\n",
            "SEO.Code.5                                5561 non-null float64\n",
            "SEO.Percentage.5                          5561 non-null float64\n",
            "Person.ID.1                               5634 non-null float64\n",
            "Role.1                                    5930 non-null object\n",
            "Year.of.Birth.1                           5633 non-null float64\n",
            "Country.of.Birth.1                        5096 non-null object\n",
            "Home.Language.1                           556 non-null object\n",
            "Dept.No..1                                5392 non-null float64\n",
            "Faculty.No..1                             5389 non-null float64\n",
            "With.PHD.1                                3504 non-null object\n",
            "No..of.Years.in.Uni.at.Time.of.Grant.1    4950 non-null object\n",
            "Number.of.Successful.Grant.1              5634 non-null float64\n",
            "Number.of.Unsuccessful.Grant.1            5634 non-null float64\n",
            "A..1                                      5634 non-null float64\n",
            "A.1                                       5634 non-null float64\n",
            "B.1                                       5634 non-null float64\n",
            "C.1                                       5634 non-null float64\n",
            "dtypes: float64(30), int64(1), object(8)\n",
            "memory usage: 1.8+ MB\n"
          ],
          "name": "stdout"
        }
      ]
    },
    {
      "cell_type": "markdown",
      "metadata": {
        "id": "a6qsw491Tmz7",
        "colab_type": "text"
      },
      "source": [
        "Let's set our target variable Grant.Status as y.\n",
        "\n",
        "X is our training data, y - answers on it."
      ]
    },
    {
      "cell_type": "code",
      "metadata": {
        "id": "HCEN_etuTmz8",
        "colab_type": "code",
        "colab": {}
      },
      "source": [
        "X = data.drop('Grant.Status', 1)\n",
        "y = data['Grant.Status']"
      ],
      "execution_count": 0,
      "outputs": []
    },
    {
      "cell_type": "markdown",
      "metadata": {
        "id": "KL0UAUONTmz_",
        "colab_type": "text"
      },
      "source": [
        "## Data Preprocessing"
      ]
    },
    {
      "cell_type": "markdown",
      "metadata": {
        "id": "N3MWbiRCTmz_",
        "colab_type": "text"
      },
      "source": [
        "We need to be sure, that:\n",
        "\n",
        "*   All X is numerical (if there are categorical columns we need to encode them)\n",
        "*   There are no missing values in data\n"
      ]
    },
    {
      "cell_type": "code",
      "metadata": {
        "id": "PsXgDvOCTm0A",
        "colab_type": "code",
        "outputId": "a917e334-9dee-4b86-9056-1a8a82ca0837",
        "colab": {
          "base_uri": "https://localhost:8080/",
          "height": 224
        }
      },
      "source": [
        "data.head()"
      ],
      "execution_count": 0,
      "outputs": [
        {
          "output_type": "execute_result",
          "data": {
            "text/html": [
              "<div>\n",
              "<style scoped>\n",
              "    .dataframe tbody tr th:only-of-type {\n",
              "        vertical-align: middle;\n",
              "    }\n",
              "\n",
              "    .dataframe tbody tr th {\n",
              "        vertical-align: top;\n",
              "    }\n",
              "\n",
              "    .dataframe thead th {\n",
              "        text-align: right;\n",
              "    }\n",
              "</style>\n",
              "<table border=\"1\" class=\"dataframe\">\n",
              "  <thead>\n",
              "    <tr style=\"text-align: right;\">\n",
              "      <th></th>\n",
              "      <th>Grant.Status</th>\n",
              "      <th>Sponsor.Code</th>\n",
              "      <th>Grant.Category.Code</th>\n",
              "      <th>Contract.Value.Band...see.note.A</th>\n",
              "      <th>RFCD.Code.1</th>\n",
              "      <th>RFCD.Percentage.1</th>\n",
              "      <th>RFCD.Code.2</th>\n",
              "      <th>RFCD.Percentage.2</th>\n",
              "      <th>RFCD.Code.3</th>\n",
              "      <th>RFCD.Percentage.3</th>\n",
              "      <th>RFCD.Code.4</th>\n",
              "      <th>RFCD.Percentage.4</th>\n",
              "      <th>RFCD.Code.5</th>\n",
              "      <th>RFCD.Percentage.5</th>\n",
              "      <th>SEO.Code.1</th>\n",
              "      <th>SEO.Percentage.1</th>\n",
              "      <th>SEO.Code.2</th>\n",
              "      <th>SEO.Percentage.2</th>\n",
              "      <th>SEO.Code.3</th>\n",
              "      <th>SEO.Percentage.3</th>\n",
              "      <th>SEO.Code.4</th>\n",
              "      <th>SEO.Percentage.4</th>\n",
              "      <th>SEO.Code.5</th>\n",
              "      <th>SEO.Percentage.5</th>\n",
              "      <th>Person.ID.1</th>\n",
              "      <th>Role.1</th>\n",
              "      <th>Year.of.Birth.1</th>\n",
              "      <th>Country.of.Birth.1</th>\n",
              "      <th>Home.Language.1</th>\n",
              "      <th>Dept.No..1</th>\n",
              "      <th>Faculty.No..1</th>\n",
              "      <th>With.PHD.1</th>\n",
              "      <th>No..of.Years.in.Uni.at.Time.of.Grant.1</th>\n",
              "      <th>Number.of.Successful.Grant.1</th>\n",
              "      <th>Number.of.Unsuccessful.Grant.1</th>\n",
              "      <th>A..1</th>\n",
              "      <th>A.1</th>\n",
              "      <th>B.1</th>\n",
              "      <th>C.1</th>\n",
              "    </tr>\n",
              "  </thead>\n",
              "  <tbody>\n",
              "    <tr>\n",
              "      <th>0</th>\n",
              "      <td>1</td>\n",
              "      <td>21A</td>\n",
              "      <td>50A</td>\n",
              "      <td>A</td>\n",
              "      <td>230202.0</td>\n",
              "      <td>50.0</td>\n",
              "      <td>230203.0</td>\n",
              "      <td>30.0</td>\n",
              "      <td>230204.0</td>\n",
              "      <td>20.0</td>\n",
              "      <td>0.0</td>\n",
              "      <td>0.0</td>\n",
              "      <td>0.0</td>\n",
              "      <td>0.0</td>\n",
              "      <td>780101.0</td>\n",
              "      <td>100.0</td>\n",
              "      <td>0.0</td>\n",
              "      <td>0.0</td>\n",
              "      <td>0.0</td>\n",
              "      <td>0.0</td>\n",
              "      <td>0.0</td>\n",
              "      <td>0.0</td>\n",
              "      <td>0.0</td>\n",
              "      <td>0.0</td>\n",
              "      <td>493297.0</td>\n",
              "      <td>CHIEF_INVESTIGATOR</td>\n",
              "      <td>1965.0</td>\n",
              "      <td>Australia</td>\n",
              "      <td>NaN</td>\n",
              "      <td>3098.0</td>\n",
              "      <td>31.0</td>\n",
              "      <td>Yes</td>\n",
              "      <td>&gt;=0 to 5</td>\n",
              "      <td>2.0</td>\n",
              "      <td>0.0</td>\n",
              "      <td>0.0</td>\n",
              "      <td>4.0</td>\n",
              "      <td>2.0</td>\n",
              "      <td>0.0</td>\n",
              "    </tr>\n",
              "    <tr>\n",
              "      <th>1</th>\n",
              "      <td>1</td>\n",
              "      <td>4D</td>\n",
              "      <td>10A</td>\n",
              "      <td>D</td>\n",
              "      <td>320801.0</td>\n",
              "      <td>100.0</td>\n",
              "      <td>0.0</td>\n",
              "      <td>0.0</td>\n",
              "      <td>0.0</td>\n",
              "      <td>0.0</td>\n",
              "      <td>0.0</td>\n",
              "      <td>0.0</td>\n",
              "      <td>0.0</td>\n",
              "      <td>0.0</td>\n",
              "      <td>730112.0</td>\n",
              "      <td>100.0</td>\n",
              "      <td>0.0</td>\n",
              "      <td>0.0</td>\n",
              "      <td>0.0</td>\n",
              "      <td>0.0</td>\n",
              "      <td>0.0</td>\n",
              "      <td>0.0</td>\n",
              "      <td>0.0</td>\n",
              "      <td>0.0</td>\n",
              "      <td>330592.0</td>\n",
              "      <td>CHIEF_INVESTIGATOR</td>\n",
              "      <td>1965.0</td>\n",
              "      <td>Australia</td>\n",
              "      <td>NaN</td>\n",
              "      <td>2553.0</td>\n",
              "      <td>25.0</td>\n",
              "      <td>Yes</td>\n",
              "      <td>&gt;=0 to 5</td>\n",
              "      <td>3.0</td>\n",
              "      <td>1.0</td>\n",
              "      <td>0.0</td>\n",
              "      <td>2.0</td>\n",
              "      <td>0.0</td>\n",
              "      <td>0.0</td>\n",
              "    </tr>\n",
              "    <tr>\n",
              "      <th>2</th>\n",
              "      <td>0</td>\n",
              "      <td>NaN</td>\n",
              "      <td>NaN</td>\n",
              "      <td>NaN</td>\n",
              "      <td>320602.0</td>\n",
              "      <td>50.0</td>\n",
              "      <td>321004.0</td>\n",
              "      <td>30.0</td>\n",
              "      <td>321015.0</td>\n",
              "      <td>20.0</td>\n",
              "      <td>0.0</td>\n",
              "      <td>0.0</td>\n",
              "      <td>0.0</td>\n",
              "      <td>0.0</td>\n",
              "      <td>730203.0</td>\n",
              "      <td>60.0</td>\n",
              "      <td>730105.0</td>\n",
              "      <td>20.0</td>\n",
              "      <td>730108.0</td>\n",
              "      <td>20.0</td>\n",
              "      <td>0.0</td>\n",
              "      <td>0.0</td>\n",
              "      <td>0.0</td>\n",
              "      <td>0.0</td>\n",
              "      <td>66887.0</td>\n",
              "      <td>CHIEF_INVESTIGATOR</td>\n",
              "      <td>1955.0</td>\n",
              "      <td>Australia</td>\n",
              "      <td>NaN</td>\n",
              "      <td>2813.0</td>\n",
              "      <td>25.0</td>\n",
              "      <td>NaN</td>\n",
              "      <td>Less than 0</td>\n",
              "      <td>1.0</td>\n",
              "      <td>5.0</td>\n",
              "      <td>0.0</td>\n",
              "      <td>7.0</td>\n",
              "      <td>2.0</td>\n",
              "      <td>0.0</td>\n",
              "    </tr>\n",
              "    <tr>\n",
              "      <th>3</th>\n",
              "      <td>0</td>\n",
              "      <td>51C</td>\n",
              "      <td>20C</td>\n",
              "      <td>A</td>\n",
              "      <td>291503.0</td>\n",
              "      <td>60.0</td>\n",
              "      <td>321402.0</td>\n",
              "      <td>40.0</td>\n",
              "      <td>0.0</td>\n",
              "      <td>0.0</td>\n",
              "      <td>0.0</td>\n",
              "      <td>0.0</td>\n",
              "      <td>0.0</td>\n",
              "      <td>0.0</td>\n",
              "      <td>730114.0</td>\n",
              "      <td>60.0</td>\n",
              "      <td>671401.0</td>\n",
              "      <td>40.0</td>\n",
              "      <td>0.0</td>\n",
              "      <td>0.0</td>\n",
              "      <td>0.0</td>\n",
              "      <td>0.0</td>\n",
              "      <td>0.0</td>\n",
              "      <td>0.0</td>\n",
              "      <td>63812.0</td>\n",
              "      <td>CHIEF_INVESTIGATOR</td>\n",
              "      <td>1950.0</td>\n",
              "      <td>Great Britain</td>\n",
              "      <td>NaN</td>\n",
              "      <td>2553.0</td>\n",
              "      <td>25.0</td>\n",
              "      <td>NaN</td>\n",
              "      <td>more than 15</td>\n",
              "      <td>2.0</td>\n",
              "      <td>1.0</td>\n",
              "      <td>5.0</td>\n",
              "      <td>6.0</td>\n",
              "      <td>9.0</td>\n",
              "      <td>1.0</td>\n",
              "    </tr>\n",
              "    <tr>\n",
              "      <th>4</th>\n",
              "      <td>0</td>\n",
              "      <td>24D</td>\n",
              "      <td>30B</td>\n",
              "      <td>NaN</td>\n",
              "      <td>380107.0</td>\n",
              "      <td>100.0</td>\n",
              "      <td>0.0</td>\n",
              "      <td>0.0</td>\n",
              "      <td>0.0</td>\n",
              "      <td>0.0</td>\n",
              "      <td>0.0</td>\n",
              "      <td>0.0</td>\n",
              "      <td>0.0</td>\n",
              "      <td>0.0</td>\n",
              "      <td>730108.0</td>\n",
              "      <td>50.0</td>\n",
              "      <td>730306.0</td>\n",
              "      <td>50.0</td>\n",
              "      <td>0.0</td>\n",
              "      <td>0.0</td>\n",
              "      <td>0.0</td>\n",
              "      <td>0.0</td>\n",
              "      <td>0.0</td>\n",
              "      <td>0.0</td>\n",
              "      <td>13687.0</td>\n",
              "      <td>CHIEF_INVESTIGATOR</td>\n",
              "      <td>1970.0</td>\n",
              "      <td>Australia</td>\n",
              "      <td>NaN</td>\n",
              "      <td>2923.0</td>\n",
              "      <td>25.0</td>\n",
              "      <td>NaN</td>\n",
              "      <td>Less than 0</td>\n",
              "      <td>0.0</td>\n",
              "      <td>2.0</td>\n",
              "      <td>0.0</td>\n",
              "      <td>0.0</td>\n",
              "      <td>0.0</td>\n",
              "      <td>0.0</td>\n",
              "    </tr>\n",
              "  </tbody>\n",
              "</table>\n",
              "</div>"
            ],
            "text/plain": [
              "   Grant.Status Sponsor.Code Grant.Category.Code  ...  A.1  B.1  C.1\n",
              "0             1          21A                 50A  ...  4.0  2.0  0.0\n",
              "1             1           4D                 10A  ...  2.0  0.0  0.0\n",
              "2             0          NaN                 NaN  ...  7.0  2.0  0.0\n",
              "3             0          51C                 20C  ...  6.0  9.0  1.0\n",
              "4             0          24D                 30B  ...  0.0  0.0  0.0\n",
              "\n",
              "[5 rows x 39 columns]"
            ]
          },
          "metadata": {
            "tags": []
          },
          "execution_count": 9
        }
      ]
    },
    {
      "cell_type": "markdown",
      "metadata": {
        "id": "01Qc2GsHTm0B",
        "colab_type": "text"
      },
      "source": [
        "So there are categorical columns in the dataset. Let's split numerical and categorical columns so we can work with them separately."
      ]
    },
    {
      "cell_type": "code",
      "metadata": {
        "id": "NykWlO-GTm0C",
        "colab_type": "code",
        "colab": {}
      },
      "source": [
        "numeric_cols = ['RFCD.Percentage.1', 'RFCD.Percentage.2', 'RFCD.Percentage.3', \n",
        "                'RFCD.Percentage.4', 'RFCD.Percentage.5',\n",
        "                'SEO.Percentage.1', 'SEO.Percentage.2', 'SEO.Percentage.3',\n",
        "                'SEO.Percentage.4', 'SEO.Percentage.5',\n",
        "                'Year.of.Birth.1', 'Number.of.Successful.Grant.1', 'Number.of.Unsuccessful.Grant.1']\n",
        "categorical_cols = list(set(X.columns.values.tolist()) - set(numeric_cols))"
      ],
      "execution_count": 0,
      "outputs": []
    },
    {
      "cell_type": "markdown",
      "metadata": {
        "id": "smcrMTUUTm0E",
        "colab_type": "text"
      },
      "source": [
        "Also, there are some missing values. Let's check, what will happen if we just drop them."
      ]
    },
    {
      "cell_type": "code",
      "metadata": {
        "id": "5Fjo7GFETm0F",
        "colab_type": "code",
        "outputId": "00d85d5a-fdaf-4766-d70c-90abc1d4b066",
        "colab": {
          "base_uri": "https://localhost:8080/",
          "height": 34
        }
      },
      "source": [
        "data.dropna().shape"
      ],
      "execution_count": 0,
      "outputs": [
        {
          "output_type": "execute_result",
          "data": {
            "text/plain": [
              "(213, 39)"
            ]
          },
          "metadata": {
            "tags": []
          },
          "execution_count": 11
        }
      ]
    },
    {
      "cell_type": "markdown",
      "metadata": {
        "id": "T6LzsNUiTm0H",
        "colab_type": "text"
      },
      "source": [
        "It seems, that we dropped a lot of data here, so it's not an option.\n",
        "\n",
        "So, we need to do something with them. There are some basic options what we can do.\n",
        "\n",
        "For numerical columns:\n",
        "- set it as 0 (feature won't be considered in prediction)\n",
        "- set it as mean (every missed feature will make a contribution in prediction equal to the mean value of the feature in the dataset)\n",
        "\n",
        "For categorical columns:\n",
        "- interpret the missing value as a new category "
      ]
    },
    {
      "cell_type": "markdown",
      "metadata": {
        "id": "MRawzFTRTm0H",
        "colab_type": "text"
      },
      "source": [
        "##  Task 0. Filing missed values.\n",
        "\n",
        "\n",
        "1.  Set all missed numerical values with zeros or mean and get 2 datasets in the result. A 'calculate_means' function is provided.\n",
        "2.   Translate all categorical features to strings, fill missed values with some string ('NA' for ex.).\n",
        "\n",
        "\n"
      ]
    },
    {
      "cell_type": "code",
      "metadata": {
        "id": "PTMQXsuiTm0I",
        "colab_type": "code",
        "colab": {}
      },
      "source": [
        "def calculate_means(numeric_data):\n",
        "    means = np.zeros(numeric_data.shape[1])\n",
        "    for j in range(numeric_data.shape[1]):\n",
        "        to_sum = numeric_data.iloc[:,j]\n",
        "        indices = np.nonzero(~numeric_data.iloc[:,j].isnull())[0]\n",
        "        correction = np.amax(to_sum[indices])\n",
        "        to_sum /= correction\n",
        "        for i in indices:\n",
        "            means[j] += to_sum[i]\n",
        "        means[j] /= indices.size\n",
        "        means[j] *= correction\n",
        "    return pd.Series(means, numeric_data.columns)"
      ],
      "execution_count": 0,
      "outputs": []
    },
    {
      "cell_type": "code",
      "metadata": {
        "id": "4ZBSELTxYGgC",
        "colab_type": "code",
        "outputId": "8db3b79c-d5c3-4e21-8b16-82bfa793b529",
        "colab": {
          "base_uri": "https://localhost:8080/",
          "height": 289
        }
      },
      "source": [
        "numeric_data = X[numeric_cols]\n",
        "means = calculate_means(numeric_data)\n",
        "print (means)"
      ],
      "execution_count": 0,
      "outputs": [
        {
          "output_type": "stream",
          "text": [
            "/usr/local/lib/python3.6/dist-packages/numpy/core/fromnumeric.py:61: FutureWarning: Series.nonzero() is deprecated and will be removed in a future version.Use Series.to_numpy().nonzero() instead\n",
            "  return bound(*args, **kwds)\n"
          ],
          "name": "stderr"
        },
        {
          "output_type": "stream",
          "text": [
            "RFCD.Percentage.1                   74.832348\n",
            "RFCD.Percentage.2                   17.677593\n",
            "RFCD.Percentage.3                    6.933011\n",
            "RFCD.Percentage.4                    0.437937\n",
            "RFCD.Percentage.5                    0.119112\n",
            "SEO.Percentage.1                    71.483240\n",
            "SEO.Percentage.2                    20.646880\n",
            "SEO.Percentage.3                     6.926704\n",
            "SEO.Percentage.4                     0.730804\n",
            "SEO.Percentage.5                     0.212192\n",
            "Year.of.Birth.1                   1962.449849\n",
            "Number.of.Successful.Grant.1         1.177849\n",
            "Number.of.Unsuccessful.Grant.1       2.097977\n",
            "dtype: float64\n"
          ],
          "name": "stdout"
        }
      ]
    },
    {
      "cell_type": "code",
      "metadata": {
        "id": "j2oFamChTm0M",
        "colab_type": "code",
        "colab": {}
      },
      "source": [
        "X_real_zeros = numeric_data.fillna(0)\n",
        "X_real_mean = numeric_data.fillna(value=means)\n",
        "X_cat = X[categorical_cols].fillna('NA')\n",
        "X_cat = X_cat.applymap(str)"
      ],
      "execution_count": 0,
      "outputs": []
    },
    {
      "cell_type": "markdown",
      "metadata": {
        "id": "y_ZbV11FTm0N",
        "colab_type": "text"
      },
      "source": [
        "## Working with categorical columns."
      ]
    },
    {
      "cell_type": "markdown",
      "metadata": {
        "id": "q906XqIcTm0O",
        "colab_type": "text"
      },
      "source": [
        "To use logistic regression we need to convert categorical features to numerical. Let's do it the basic way  - one-hot encoding. For every categorical feature, it will create a numerical interpretation.\n",
        "You can read more about it here:\n",
        "\n",
        "https://hackernoon.com/what-is-one-hot-encoding-why-and-when-do-you-have-to-use-it-e3c6186d008f\n",
        "\n",
        "Let's look at the simple example:"
      ]
    },
    {
      "cell_type": "code",
      "metadata": {
        "id": "nex45xsHTm0O",
        "colab_type": "code",
        "outputId": "c2d44295-3dbd-490f-dbda-cb9517a0623e",
        "colab": {
          "base_uri": "https://localhost:8080/",
          "height": 255
        }
      },
      "source": [
        "from sklearn.linear_model import LogisticRegression as LR\n",
        "from sklearn.feature_extraction import DictVectorizer as DV\n",
        "\n",
        "categorial_data = pd.DataFrame({'sex': ['male', 'female', 'male', 'female'], \n",
        "                                'nationality': ['American', 'European', 'Asian', 'European']})\n",
        "print('Dataе:\\n')\n",
        "print(categorial_data)\n",
        "encoder = DV(sparse = False)\n",
        "encoded_data = encoder.fit_transform(categorial_data.T.to_dict().values())\n",
        "print('\\nEncoded Data:\\n')\n",
        "print(encoded_data)"
      ],
      "execution_count": 0,
      "outputs": [
        {
          "output_type": "stream",
          "text": [
            "Dataе:\n",
            "\n",
            "      sex nationality\n",
            "0    male    American\n",
            "1  female    European\n",
            "2    male       Asian\n",
            "3  female    European\n",
            "\n",
            "Encoded Data:\n",
            "\n",
            "[[1. 0. 0. 0. 1.]\n",
            " [0. 0. 1. 1. 0.]\n",
            " [0. 1. 0. 0. 1.]\n",
            " [0. 0. 1. 1. 0.]]\n"
          ],
          "name": "stdout"
        }
      ]
    },
    {
      "cell_type": "markdown",
      "metadata": {
        "id": "dG6-XjmgTm0Q",
        "colab_type": "text"
      },
      "source": [
        "As we see the first 3 columns are information about the country, others - about gender. \n",
        "\n",
        "Let's apply one-hot encoding to the dataset with 'fit_transform' function.\n",
        "\n",
        "    encoder.fit_transform(X)\n",
        "    \n",
        "It's important to use same encoder on traint and test data !\n",
        "\n",
        "Also, you can't calculate many of the transformations (scaling for ex.) on test and train data together, it will affect quality scores of the algorithm. Encoding of categorical features is not calculating anything on training dataset so it can be applied to the whole dataset without consequences."
      ]
    },
    {
      "cell_type": "code",
      "metadata": {
        "id": "6V07V8scTm0R",
        "colab_type": "code",
        "outputId": "98b5cdfd-1e29-4379-8156-840b0ba656f4",
        "colab": {
          "base_uri": "https://localhost:8080/",
          "height": 34
        }
      },
      "source": [
        "encoder = DV(sparse = False)\n",
        "X_cat_oh = encoder.fit_transform(X_cat.T.to_dict().values())\n",
        "print (X_cat_oh.shape)"
      ],
      "execution_count": 0,
      "outputs": [
        {
          "output_type": "stream",
          "text": [
            "(6000, 5593)\n"
          ],
          "name": "stdout"
        }
      ]
    },
    {
      "cell_type": "markdown",
      "metadata": {
        "id": "kGC8y-NeTm0S",
        "colab_type": "text"
      },
      "source": [
        "To correctly calculate the accuracy of the model we need to split the dataset into test/training subsets.\n"
      ]
    },
    {
      "cell_type": "code",
      "metadata": {
        "id": "pSYm-DgzTm0T",
        "colab_type": "code",
        "colab": {}
      },
      "source": [
        "from sklearn.model_selection import train_test_split\n",
        "\n",
        "(X_train_real_zeros, \n",
        " X_test_real_zeros, \n",
        " y_train, y_test) = train_test_split(X_real_zeros, y, \n",
        "                                     test_size=0.3, \n",
        "                                     random_state=0)\n",
        "(X_train_real_mean, \n",
        " X_test_real_mean) = train_test_split(X_real_mean, \n",
        "                                      test_size=0.3, \n",
        "                                      random_state=0)\n",
        "(X_train_cat_oh,\n",
        " X_test_cat_oh) = train_test_split(X_cat_oh, \n",
        "                                   test_size=0.3, \n",
        "                                   random_state=0)"
      ],
      "execution_count": 0,
      "outputs": []
    },
    {
      "cell_type": "markdown",
      "metadata": {
        "id": "9CRu__eaTm0U",
        "colab_type": "text"
      },
      "source": [
        "## Class description"
      ]
    },
    {
      "cell_type": "markdown",
      "metadata": {
        "id": "ykwCl-DSTm0V",
        "colab_type": "text"
      },
      "source": [
        "Now we have first datasets, that satisfies the requirements of Logistic Regression. Let's train it, using sklearn tools for model's params adjustment.\n",
        "    \n",
        "    optimizer = GridSearchCV(estimator, param_grid)\n",
        "\n",
        "This class will do CV of the training set and find optimal params for the algorithm.\n",
        "\n",
        "After init of the class, start a search with function:\n",
        "\n",
        "    optimizer.fit(X, y)\n",
        "    \n",
        "For getting predictions use:\n",
        "\n",
        "    optimizer.predict(X)\n",
        "    \n",
        "for labels or \n",
        "\n",
        "    optimizer.predict_proba(X)\n",
        "    \n",
        "for probabilities.\n",
        "    \n",
        "\n",
        "Logistic regression class:\n",
        "\n",
        "    estimator = LogisticRegression(penalty)\n",
        "   \n",
        "where a penalty is L1 or L2, with L2 as default."
      ]
    },
    {
      "cell_type": "markdown",
      "metadata": {
        "id": "bHoDsBVBTm0V",
        "colab_type": "text"
      },
      "source": [
        "## Task 1. Comparison of different methods to fill missing values.\n",
        "1. Create two datasets with zeros or means instead of numerical missing values and encoded categorical values. We suggest writing numerical features into datasets first.\n",
        "2. Train logistic regression, using params from param_grid dict with 3 folds. Use the default optimizer function.\n",
        "3. Plot 2 accuracy + std graphs depending on C and ensure, that you've found maximum. \n",
        "4. Get 2 AUC ROC metrics on test dataset anв compare them. Which method of filling missing values in the dataset is better? In future tasks use the dataset with the best score. \n",
        "\n",
        "Actually, it's not very logical to optimize accuracy on CV and measure AUC ROC on the test, but it's done for speeding up the process of CV in the example."
      ]
    },
    {
      "cell_type": "code",
      "metadata": {
        "id": "m1fJ_5UsTm0W",
        "colab_type": "code",
        "colab": {}
      },
      "source": [
        "from sklearn.linear_model import LogisticRegression\n",
        "from sklearn.model_selection import GridSearchCV\n",
        "from sklearn.metrics import roc_auc_score\n",
        "\n",
        "def plot_scores(optimizer):\n",
        "    param_C = np.array(optimizer.cv_results_['param_C'])\n",
        "    mean_cv = optimizer.cv_results_['mean_test_score']\n",
        "    std_cv = optimizer.cv_results_['std_test_score']\n",
        "    \n",
        "    temp_1 = mean_cv - std_cv\n",
        "    temp_2 = mean_cv + std_cv                                             \n",
        "    \n",
        "    plt.semilogx(param_C, mean_cv)\n",
        "    plt.fill_between(np.array(param_C, dtype=float), np.array(temp_1, dtype=float), np.array(temp_2, dtype=float), alpha=0.3)\n",
        "    plt.show()\n",
        "\n",
        "def write_answer_1(auc_1, auc_2):\n",
        "    auc = (auc_1 + auc_2)/2\n",
        "    with open(\"preprocessing_lr_answer1.txt\", \"w\") as fout:\n",
        "        fout.write(str(auc))\n",
        "        \n",
        "param_grid = {'C': [0.01, 0.05, 0.1, 0.5, 1, 5, 10]}\n",
        "cv = 3"
      ],
      "execution_count": 0,
      "outputs": []
    },
    {
      "cell_type": "markdown",
      "metadata": {
        "id": "I9-SV3_CXm3e",
        "colab_type": "text"
      },
      "source": [
        "1. Stacking numerical and categorical features"
      ]
    },
    {
      "cell_type": "code",
      "metadata": {
        "id": "fO2y2cOzXLmJ",
        "colab_type": "code",
        "colab": {}
      },
      "source": [
        "X_train_zeros = np.hstack( (X_train_real_zeros, X_train_cat_oh) )\n",
        "X_train_mean = np.hstack( (X_train_real_mean, X_train_cat_oh) )\n",
        "X_test_zeros = np.hstack( (X_test_real_zeros, X_test_cat_oh) )\n",
        "X_test_mean = np.hstack( (X_test_real_mean, X_test_cat_oh) )"
      ],
      "execution_count": 0,
      "outputs": []
    },
    {
      "cell_type": "markdown",
      "metadata": {
        "id": "87Bis_qsXu-K",
        "colab_type": "text"
      },
      "source": [
        "2. Logistic regression grid search."
      ]
    },
    {
      "cell_type": "code",
      "metadata": {
        "id": "n71b3hxoYAIO",
        "colab_type": "code",
        "outputId": "1395565c-80cf-404d-c5a8-dfd4f8cfcc43",
        "colab": {
          "base_uri": "https://localhost:8080/",
          "height": 51
        }
      },
      "source": [
        "%%time\n",
        "estimator = LogisticRegression(solver='liblinear')\n",
        "\n",
        "optimizer_zeros = GridSearchCV(estimator, param_grid, cv=cv)\n",
        "optimizer_zeros.fit(X_train_zeros, y_train)\n",
        "\n",
        "optimizer_mean = GridSearchCV(estimator, param_grid, cv=cv)\n",
        "optimizer_mean.fit(X_train_mean, y_train)"
      ],
      "execution_count": 0,
      "outputs": [
        {
          "output_type": "stream",
          "text": [
            "CPU times: user 10.5 s, sys: 4.08 s, total: 14.6 s\n",
            "Wall time: 9.71 s\n"
          ],
          "name": "stdout"
        }
      ]
    },
    {
      "cell_type": "markdown",
      "metadata": {
        "id": "3TMlGQ5laur_",
        "colab_type": "text"
      },
      "source": [
        "3. Plot graphs"
      ]
    },
    {
      "cell_type": "code",
      "metadata": {
        "id": "4Lxa9DVgggUR",
        "colab_type": "code",
        "outputId": "0a5d6646-f87d-4dae-fd58-8ee44d3f74b3",
        "colab": {
          "base_uri": "https://localhost:8080/",
          "height": 521
        }
      },
      "source": [
        "plot_scores(optimizer_zeros)\n",
        "plot_scores(optimizer_mean)"
      ],
      "execution_count": 0,
      "outputs": [
        {
          "output_type": "display_data",
          "data": {
            "image/png": "[encoded data removed]",
            "text/plain": [
              "<Figure size 432x288 with 1 Axes>"
            ]
          },
          "metadata": {
            "tags": []
          }
        },
        {
          "output_type": "display_data",
          "data": {
            "image/png": "[encoded data removed]",
            "text/plain": [
              "<Figure size 432x288 with 1 Axes>"
            ]
          },
          "metadata": {
            "tags": []
          }
        }
      ]
    },
    {
      "cell_type": "code",
      "metadata": {
        "id": "jITdlkeBtA79",
        "colab_type": "code",
        "outputId": "47a022ee-7e6b-4e63-b857-ef92a0527931",
        "colab": {
          "base_uri": "https://localhost:8080/",
          "height": 102
        }
      },
      "source": [
        "roc_auc_score_zeros = roc_auc_score(y_test, optimizer_zeros.best_estimator_.predict_proba(X_test_zeros)[:, 1])\n",
        "print (f'Best parameter for GridSearchCV with zero fillna: {optimizer_zeros.best_params_}')\n",
        "print (f'roc_auc_score_zeros: {roc_auc_score_zeros} \\n')\n",
        "\n",
        "roc_auc_score_mean = roc_auc_score(y_test, optimizer_mean.best_estimator_.predict_proba(X_test_mean)[:, 1])\n",
        "print (f'Best parameter for GridSearchCV with mean fillna: {optimizer_mean.best_params_}')\n",
        "print (f'roc_auc_score_mean: {roc_auc_score_mean}')"
      ],
      "execution_count": 0,
      "outputs": [
        {
          "output_type": "stream",
          "text": [
            "Best parameter for GridSearchCV with zero fillna: {'C': 0.5}\n",
            "roc_auc_score_zeros: 0.8774455516357711 \n",
            "\n",
            "Best parameter for GridSearchCV with mean fillna: {'C': 0.5}\n",
            "roc_auc_score_mean: 0.8768008701344179\n"
          ],
          "name": "stdout"
        }
      ]
    },
    {
      "cell_type": "markdown",
      "metadata": {
        "id": "CbXEJLHMTm0X",
        "colab_type": "text"
      },
      "source": [
        "## Numerical features scaling."
      ]
    },
    {
      "cell_type": "markdown",
      "metadata": {
        "id": "cvG7_zk0Tm0Y",
        "colab_type": "text"
      },
      "source": [
        "Let's takу a look at the data and see what we can do to achieve better scores:"
      ]
    },
    {
      "cell_type": "code",
      "metadata": {
        "id": "8ZgVo2I1Tm0Y",
        "colab_type": "code",
        "outputId": "3e1a9bcb-85c0-40b2-ca67-bde93f11ca3f",
        "colab": {
          "base_uri": "https://localhost:8080/",
          "height": 611
        }
      },
      "source": [
        "from pandas.plotting import scatter_matrix\n",
        "\n",
        "data_numeric = pd.DataFrame(X_train_real_zeros, columns=numeric_cols)\n",
        "list_cols = ['Number.of.Successful.Grant.1', 'SEO.Percentage.2', 'Year.of.Birth.1']\n",
        "scatter_matrix(data_numeric[list_cols], alpha=0.5, figsize=(10, 10))\n",
        "plt.show()"
      ],
      "execution_count": 0,
      "outputs": [
        {
          "output_type": "display_data",
          "data": {
            "image/png": "[encoded data removed]",
            "text/plain": [
              "<Figure size 720x720 with 9 Axes>"
            ]
          },
          "metadata": {
            "tags": []
          }
        }
      ]
    },
    {
      "cell_type": "markdown",
      "metadata": {
        "id": "0LgE5bbeTm0b",
        "colab_type": "text"
      },
      "source": [
        "As we can see, the features have different scales. With regularization, using them as they are will cost us accuracy. In this case, it's always recommended to do feature scaling to make them less different from each other. \n",
        "\n",
        "Even if the resulting quality of the model will decrease on the test, it will increase its 'interpretability' because new weights are characterizing the importance of feature for resulting classification.\n",
        "\n",
        "Scaling is done as follows:\n",
        "\n",
        "$$ x^{scaled}_{id} = \\dfrac{x_{id} - \\mu_d}{\\sigma_d}, \\quad \\mu_d = \\frac{1}{N} \\sum_{i=1}^l x_{id}, \\quad \\sigma_d = \\sqrt{\\frac{1}{N-1} \\sum_{i=1}^l (x_{id} - \\mu_d)^2} $$"
      ]
    },
    {
      "cell_type": "markdown",
      "metadata": {
        "id": "Zawt5fzETm0c",
        "colab_type": "text"
      },
      "source": [
        "## Task 1.5. Numerical feature scaling.\n",
        "\n",
        "1. Scale features in X_train_real_zeros и X_test_real_zeros datasets, using\n",
        "\n",
        "        StandardScaler\n",
        "   \n",
        "   class and methods\n",
        "\n",
        "        StandardScaler.fit_transform(...)\n",
        "        StandardScaler.transform(...)\n",
        "        \n",
        "2. Call new datasets X_train_real_scaled and X_test_real_scaled."
      ]
    },
    {
      "cell_type": "code",
      "metadata": {
        "id": "Pop-HPxXTm0d",
        "colab_type": "code",
        "colab": {}
      },
      "source": [
        "from sklearn.preprocessing import StandardScaler\n",
        "\n",
        "scaler = StandardScaler()\n",
        "\n",
        "X_train_real_scaled = scaler.fit_transform(X_train_real_zeros, y_train)\n",
        "X_test_real_scaled = scaler.fit_transform(X_test_real_zeros)"
      ],
      "execution_count": 0,
      "outputs": []
    },
    {
      "cell_type": "markdown",
      "metadata": {
        "id": "qDgjmbfkTm0g",
        "colab_type": "text"
      },
      "source": [
        "## Comparison of feature spaces."
      ]
    },
    {
      "cell_type": "markdown",
      "metadata": {
        "id": "pjIm0VTCTm0g",
        "colab_type": "text"
      },
      "source": [
        "Let's see, what we got now."
      ]
    },
    {
      "cell_type": "code",
      "metadata": {
        "id": "IaTKzMm8Tm0g",
        "colab_type": "code",
        "outputId": "11ce7c5c-8a49-475b-c47b-423887cbaaf4",
        "colab": {
          "base_uri": "https://localhost:8080/",
          "height": 612
        }
      },
      "source": [
        "data_numeric_scaled = pd.DataFrame(X_train_real_scaled, columns=numeric_cols)\n",
        "list_cols = ['Number.of.Successful.Grant.1', 'SEO.Percentage.2', 'Year.of.Birth.1']\n",
        "scatter_matrix(data_numeric_scaled[list_cols], alpha=0.5, figsize=(10, 10))\n",
        "plt.show()"
      ],
      "execution_count": 0,
      "outputs": [
        {
          "output_type": "display_data",
          "data": {
            "image/png": "[encoded data removed]",
            "text/plain": [
              "<Figure size 720x720 with 9 Axes>"
            ]
          },
          "metadata": {
            "tags": []
          }
        }
      ]
    },
    {
      "cell_type": "markdown",
      "metadata": {
        "id": "mbrDtNkuTm0i",
        "colab_type": "text"
      },
      "source": [
        "As we see hists and graphs have stayed the same - we had not changed features space properties, but now all of our features seem to be in the pretty same range. It's better for the interpretation of results and regularization."
      ]
    },
    {
      "cell_type": "markdown",
      "metadata": {
        "id": "iTuosgxJTm0j",
        "colab_type": "text"
      },
      "source": [
        "## Task 2. Classification accuracy comparison before and after feature scaling.\n",
        "1. Train regression once more with new scaled features.\n",
        "2. Check if you've found accuracy maximum.\n",
        "3. Get ROC AUC values, compare them to previous results."
      ]
    },
    {
      "cell_type": "code",
      "metadata": {
        "id": "q-qdnMcKTm0j",
        "colab_type": "code",
        "outputId": "31a7ffdc-2f86-4b5b-f9c3-abc0eac3732f",
        "colab": {
          "base_uri": "https://localhost:8080/",
          "height": 85
        }
      },
      "source": [
        "%%time\n",
        "X_train_scaled = np.hstack((X_train_real_scaled, X_train_cat_oh))\n",
        "X_test_scaled = np.hstack((X_test_real_scaled, X_test_cat_oh))\n",
        "\n",
        "optimizer_zeros.fit(X_train_scaled, y_train)\n",
        "\n",
        "roc_auc_score_scaled = roc_auc_score(y_test, optimizer_zeros.best_estimator_.predict_proba(X_test_scaled)[:, 1])\n",
        "print (f'Best parameter for GridSearchCV with scaled num parameters: {optimizer_mean.best_params_}')\n",
        "print (f'roc_auc_score_mean: {roc_auc_score_scaled}')"
      ],
      "execution_count": 0,
      "outputs": [
        {
          "output_type": "stream",
          "text": [
            "Best parameter for GridSearchCV with scaled num parameters: {'C': 0.5}\n",
            "roc_auc_score_mean: 0.8843588636282079\n",
            "CPU times: user 5.22 s, sys: 2.09 s, total: 7.31 s\n",
            "Wall time: 4.89 s\n"
          ],
          "name": "stdout"
        }
      ]
    },
    {
      "cell_type": "markdown",
      "metadata": {
        "id": "HD_Jn4sDTm0l",
        "colab_type": "text"
      },
      "source": [
        "## Handling Imbalanced Classes.\n"
      ]
    },
    {
      "cell_type": "markdown",
      "metadata": {
        "id": "oZFVAfOETm0m",
        "colab_type": "text"
      },
      "source": [
        "Classification algorithms can be very sensitive to imbalanced classes. Let's look at the following example, where two datasets are made from 2 normal distributions. Let's put into training data 20 objects sampled from the first data and 10 from the second one. After it, we will train linear regression and plot the data to analyze it."
      ]
    },
    {
      "cell_type": "code",
      "metadata": {
        "id": "tZ-b0myLTm0m",
        "colab_type": "code",
        "outputId": "58da387d-6a34-42ab-89e3-1a039a8a5328",
        "colab": {
          "base_uri": "https://localhost:8080/",
          "height": 649
        }
      },
      "source": [
        "np.random.seed(0)\n",
        "\n",
        "data_0 = np.random.multivariate_normal([0,0], [[0.5,0],[0,0.5]], size=40)\n",
        "data_1 = np.random.multivariate_normal([0,1], [[0.5,0],[0,0.5]], size=40)\n",
        "\n",
        "example_data_train = np.vstack([data_0[:20,:], data_1[:10,:]])\n",
        "example_labels_train = np.concatenate([np.zeros((20)), np.ones((10))])\n",
        "\n",
        "example_data_test = np.vstack([data_0[20:,:], data_1[10:,:]])\n",
        "example_labels_test = np.concatenate([np.zeros((20)), np.ones((30))])\n",
        "\n",
        "xx, yy = np.meshgrid(np.arange(-3, 3, 0.02), np.arange(-3, 3, 0.02))\n",
        "\n",
        "optimizer = GridSearchCV(LogisticRegression(solver='liblinear'), param_grid, cv=cv, n_jobs=-1, iid=True)\n",
        "optimizer.fit(example_data_train, example_labels_train)\n",
        "\n",
        "Z = optimizer.predict(np.c_[xx.ravel(), yy.ravel()]).reshape(xx.shape)\n",
        "plt.pcolormesh(xx, yy, Z, cmap=plt.cm.Pastel2)\n",
        "plt.scatter(data_0[:,0], data_0[:,1], color='red')\n",
        "plt.scatter(data_1[:,0], data_1[:,1], color='blue')\n",
        "\n",
        "auc_wo_class_weights = roc_auc_score(example_labels_test, optimizer.predict_proba(example_data_test)[:,1])\n",
        "plt.title('Without class weights')\n",
        "plt.show()\n",
        "print('AUC: %f'%auc_wo_class_weights)\n",
        "\n",
        "optimizer = GridSearchCV(LogisticRegression(solver='liblinear', class_weight='balanced'), param_grid, cv=cv, n_jobs=-1, iid=True)\n",
        "optimizer.fit(example_data_train, example_labels_train)\n",
        "Z = optimizer.predict(np.c_[xx.ravel(), yy.ravel()]).reshape(xx.shape)\n",
        "plt.pcolormesh(xx, yy, Z, cmap=plt.cm.Pastel2)\n",
        "plt.scatter(data_0[:,0], data_0[:,1], color='red')\n",
        "plt.scatter(data_1[:,0], data_1[:,1], color='blue')\n",
        "auc_w_class_weights = roc_auc_score(example_labels_test, optimizer.predict_proba(example_data_test)[:,1])\n",
        "plt.title('With class weights')\n",
        "plt.show()\n",
        "print('AUC: %f'%auc_w_class_weights)"
      ],
      "execution_count": 0,
      "outputs": [
        {
          "output_type": "stream",
          "text": [
            "/usr/local/lib/python3.6/dist-packages/sklearn/model_selection/_search.py:823: FutureWarning: The parameter 'iid' is deprecated in 0.22 and will be removed in 0.24.\n",
            "  \"removed in 0.24.\", FutureWarning\n"
          ],
          "name": "stderr"
        },
        {
          "output_type": "display_data",
          "data": {
            "image/png": "[encoded data removed]",
            "text/plain": [
              "<Figure size 432x288 with 1 Axes>"
            ]
          },
          "metadata": {
            "tags": []
          }
        },
        {
          "output_type": "stream",
          "text": [
            "AUC: 0.866667\n"
          ],
          "name": "stdout"
        },
        {
          "output_type": "stream",
          "text": [
            "/usr/local/lib/python3.6/dist-packages/sklearn/model_selection/_search.py:823: FutureWarning: The parameter 'iid' is deprecated in 0.22 and will be removed in 0.24.\n",
            "  \"removed in 0.24.\", FutureWarning\n"
          ],
          "name": "stderr"
        },
        {
          "output_type": "display_data",
          "data": {
            "image/png": "[encoded data removed]",
            "text/plain": [
              "<Figure size 432x288 with 1 Axes>"
            ]
          },
          "metadata": {
            "tags": []
          }
        },
        {
          "output_type": "stream",
          "text": [
            "AUC: 0.895000\n"
          ],
          "name": "stdout"
        }
      ]
    },
    {
      "cell_type": "markdown",
      "metadata": {
        "id": "OVMfQgwPTm0o",
        "colab_type": "text"
      },
      "source": [
        "In the second case, classification founds a dividing surface that is closer to true (less overfits). That's why you should always think about class balance in train data.\n",
        "\n",
        "Let's see if classes are balanced in our train dataset:"
      ]
    },
    {
      "cell_type": "code",
      "metadata": {
        "id": "enL1aH54Tm0o",
        "colab_type": "code",
        "outputId": "75b24a34-46f2-48e5-c8a2-98dd491d8f52",
        "colab": {
          "base_uri": "https://localhost:8080/",
          "height": 51
        }
      },
      "source": [
        "print(np.sum(y_train==0))\n",
        "print(np.sum(y_train==1))"
      ],
      "execution_count": 0,
      "outputs": [
        {
          "output_type": "stream",
          "text": [
            "2316\n",
            "1884\n"
          ],
          "name": "stdout"
        }
      ]
    },
    {
      "cell_type": "markdown",
      "metadata": {
        "id": "vpaliEsqTm0q",
        "colab_type": "text"
      },
      "source": [
        "As we can see, no.\n",
        "\n",
        "You can make it right various ways, but in this task, we will look at two of them:\n",
        "- Giving bigger weights for minority class on the train. \n",
        "- Oversample minority class to be equal to the majority class."
      ]
    },
    {
      "cell_type": "markdown",
      "metadata": {
        "id": "PKi5csjyTm0r",
        "colab_type": "text"
      },
      "source": [
        "## Task 3. Class balancing.\n",
        "1. Train logistic regression, using weights (class_weight='balanced' param for regression) on scaled features, you calculated in previous task.\n",
        "2. Calculate ROC AUC.\n",
        "3. Balance dataset with minority class oversampling. For getting indexes of objects to add, use this methods:\n",
        "        np.random.seed(0)\n",
        "        indices_to_add = np.random.randint(...)\n",
        "        X_train_to_add = X_train[y_train.as_matrix() == 1,:][indices_to_add,:]\n",
        "After this add addditional objects in the begginig or end of train data. Fill labels appropriately.\n",
        "4.  Calculate ROC AUC, compare it to previous results."
      ]
    },
    {
      "cell_type": "code",
      "metadata": {
        "id": "Z7HT8qJ-Tm0r",
        "colab_type": "code",
        "outputId": "f9ace31c-f03c-41dd-ff2d-1c2e38308b32",
        "colab": {
          "base_uri": "https://localhost:8080/",
          "height": 85
        }
      },
      "source": [
        "%%time\n",
        "param_grid = {'C': [0.01, 0.05, 0.1, 0.5, 1, 5, 10]}\n",
        "cv = 3\n",
        "estimator = LogisticRegression(solver='liblinear', class_weight='balanced')\n",
        "\n",
        "optimizer = GridSearchCV(estimator, param_grid, cv=cv, iid=True)\n",
        "optimizer.fit(X_train_scaled, y_train)\n"
      ],
      "execution_count": 0,
      "outputs": [
        {
          "output_type": "stream",
          "text": [
            "/usr/local/lib/python3.6/dist-packages/sklearn/model_selection/_search.py:823: FutureWarning: The parameter 'iid' is deprecated in 0.22 and will be removed in 0.24.\n",
            "  \"removed in 0.24.\", FutureWarning\n"
          ],
          "name": "stderr"
        },
        {
          "output_type": "stream",
          "text": [
            "CPU times: user 5.22 s, sys: 1.99 s, total: 7.21 s\n",
            "Wall time: 4.8 s\n"
          ],
          "name": "stdout"
        }
      ]
    },
    {
      "cell_type": "code",
      "metadata": {
        "id": "zCVlkDmm1KJK",
        "colab_type": "code",
        "outputId": "f7bbbe26-5ea9-4fb6-f804-a99e5a472d64",
        "colab": {
          "base_uri": "https://localhost:8080/",
          "height": 51
        }
      },
      "source": [
        "roc_auc_score_bal1 = roc_auc_score(y_test, optimizer.best_estimator_.predict_proba(X_test_scaled)[:, 1])\n",
        "print (f'Best parameter for GridSearchCV with balanced weights: {optimizer_mean.best_params_}')\n",
        "print (f'roc_auc_score: {roc_auc_score_bal1}')"
      ],
      "execution_count": 0,
      "outputs": [
        {
          "output_type": "stream",
          "text": [
            "Best parameter for GridSearchCV with balanced weights: {'C': 0.5}\n",
            "roc_auc_score: 0.8866925859152559\n"
          ],
          "name": "stdout"
        }
      ]
    },
    {
      "cell_type": "code",
      "metadata": {
        "id": "H3tsrz4E6-oF",
        "colab_type": "code",
        "outputId": "386d92dd-d534-4f82-b01b-78a5b5e011dd",
        "colab": {
          "base_uri": "https://localhost:8080/",
          "height": 170
        }
      },
      "source": [
        "num_of_indices = np.sum(y_train==0) - np.sum(y_train==1)\n",
        "print(np.sum(y_train==0))\n",
        "print(np.sum(y_train==1))\n",
        "\n",
        "answers = y_train[y_train].index.values\n",
        "indexes_of_first_class = np.where(answers)[0]"
      ],
      "execution_count": 0,
      "outputs": [
        {
          "output_type": "stream",
          "text": [
            "2316\n",
            "1884\n"
          ],
          "name": "stdout"
        },
        {
          "output_type": "stream",
          "text": [
            "/usr/local/lib/python3.6/dist-packages/pandas/core/series.py:1146: FutureWarning: \n",
            "Passing list-likes to .loc or [] with any missing label will raise\n",
            "KeyError in the future, you can use .reindex() as an alternative.\n",
            "\n",
            "See the documentation here:\n",
            "https://pandas.pydata.org/pandas-docs/stable/user_guide/indexing.html#deprecate-loc-reindex-listlike\n",
            "  return self.loc[key]\n"
          ],
          "name": "stderr"
        }
      ]
    },
    {
      "cell_type": "code",
      "metadata": {
        "id": "5N5X31uDGpNn",
        "colab_type": "code",
        "outputId": "fcb5e2e4-b8f5-44bf-deb9-1ad4ac5f50e8",
        "colab": {
          "base_uri": "https://localhost:8080/",
          "height": 136
        }
      },
      "source": [
        "np.random.seed(0)\n",
        "num_of_indices = np.sum(y_train==0) - np.sum(y_train==1)\n",
        "indices_to_add = np.random.choice(list(indexes_of_first_class), size=num_of_indices)\n",
        "X_train_to_add = X_train_scaled.take(indices_to_add, axis=0)\n",
        "y_train_to_add = y_train.take(indices_to_add)\n",
        "\n",
        "print(np.sum(y_train_to_add==0))\n",
        "print(np.sum(y_train_to_add==1))\n",
        "\n",
        "print (f'/nY train to add: {y_train_to_add.shape}')\n",
        "print (f'Y train: {y_train.shape} \\n')\n",
        "\n",
        "print (f'X train to add: {X_train_to_add.shape}')\n",
        "print (f'X train: {X_train_scaled.shape}')\n",
        "\n"
      ],
      "execution_count": 0,
      "outputs": [
        {
          "output_type": "stream",
          "text": [
            "0\n",
            "432\n",
            "/nY train to add: (432,)\n",
            "Y train: (4200,) \n",
            "\n",
            "X train to add: (432, 5606)\n",
            "X train: (4200, 5606)\n"
          ],
          "name": "stdout"
        }
      ]
    },
    {
      "cell_type": "code",
      "metadata": {
        "id": "5cO_02Zr1ZZJ",
        "colab_type": "code",
        "outputId": "38313624-1a0b-498b-f5f9-24d34943a140",
        "colab": {
          "base_uri": "https://localhost:8080/",
          "height": 51
        }
      },
      "source": [
        "#new X, y train\n",
        "X_train_balanced = np.vstack((X_train_scaled, X_train_to_add))\n",
        "y_train_balanced = np.append(y_train, y_train_to_add)\n",
        "\n",
        "print (X_train_balanced.shape, X_train_scaled.shape)\n",
        "print (y_train_balanced.shape, y_train.shape)"
      ],
      "execution_count": 0,
      "outputs": [
        {
          "output_type": "stream",
          "text": [
            "(4632, 5606) (4200, 5606)\n",
            "(4632,) (4200,)\n"
          ],
          "name": "stdout"
        }
      ]
    },
    {
      "cell_type": "markdown",
      "metadata": {
        "id": "6KYJSxRSF5xr",
        "colab_type": "text"
      },
      "source": [
        "Let's look at classes now"
      ]
    },
    {
      "cell_type": "code",
      "metadata": {
        "id": "KZ3nKqWZF3i1",
        "colab_type": "code",
        "outputId": "e8eb9b8d-ea82-44a3-ec80-5e80ec37fc06",
        "colab": {
          "base_uri": "https://localhost:8080/",
          "height": 51
        }
      },
      "source": [
        "print(np.sum(y_train_balanced==0))\n",
        "print(np.sum(y_train_balanced==1))"
      ],
      "execution_count": 0,
      "outputs": [
        {
          "output_type": "stream",
          "text": [
            "2316\n",
            "2316\n"
          ],
          "name": "stdout"
        }
      ]
    },
    {
      "cell_type": "code",
      "metadata": {
        "id": "uy6jj6FcGvn7",
        "colab_type": "code",
        "outputId": "c3ac89fa-fb9a-42f9-f471-271b2a028369",
        "colab": {
          "base_uri": "https://localhost:8080/",
          "height": 272
        }
      },
      "source": [
        "%%time\n",
        "estimator = LogisticRegression(solver='liblinear',)\n",
        "optimizer = GridSearchCV(estimator, param_grid, cv=cv)\n",
        "optimizer.fit(X_train_balanced, y_train_balanced)\n",
        "print(optimizer)"
      ],
      "execution_count": 0,
      "outputs": [
        {
          "output_type": "stream",
          "text": [
            "GridSearchCV(cv=3, error_score=nan,\n",
            "             estimator=LogisticRegression(C=1.0, class_weight=None, dual=False,\n",
            "                                          fit_intercept=True,\n",
            "                                          intercept_scaling=1, l1_ratio=None,\n",
            "                                          max_iter=100, multi_class='auto',\n",
            "                                          n_jobs=None, penalty='l2',\n",
            "                                          random_state=None, solver='liblinear',\n",
            "                                          tol=0.0001, verbose=0,\n",
            "                                          warm_start=False),\n",
            "             iid='deprecated', n_jobs=None,\n",
            "             param_grid={'C': [0.01, 0.05, 0.1, 0.5, 1, 5, 10]},\n",
            "             pre_dispatch='2*n_jobs', refit=True, return_train_score=False,\n",
            "             scoring=None, verbose=0)\n",
            "CPU times: user 5.65 s, sys: 2.05 s, total: 7.7 s\n",
            "Wall time: 5.24 s\n"
          ],
          "name": "stdout"
        }
      ]
    },
    {
      "cell_type": "code",
      "metadata": {
        "id": "12zIJMn02Bmg",
        "colab_type": "code",
        "outputId": "65f7c270-b227-4c5f-8057-1de9a21b06bc",
        "colab": {
          "base_uri": "https://localhost:8080/",
          "height": 51
        }
      },
      "source": [
        "roc_auc_score_bal2 = roc_auc_score(y_test, optimizer.best_estimator_.predict_proba(X_test_scaled)[:, 1])\n",
        "print (f'Best parameter for GridSearchCV with balanced weights: {optimizer_mean.best_params_}')\n",
        "print (f'roc_auc_score: {roc_auc_score_bal2}')"
      ],
      "execution_count": 0,
      "outputs": [
        {
          "output_type": "stream",
          "text": [
            "Best parameter for GridSearchCV with balanced weights: {'C': 0.5}\n",
            "roc_auc_score: 0.8833974096425049\n"
          ],
          "name": "stdout"
        }
      ]
    },
    {
      "cell_type": "markdown",
      "metadata": {
        "id": "3J6vaWggTm0t",
        "colab_type": "text"
      },
      "source": [
        "## Data stratification."
      ]
    },
    {
      "cell_type": "markdown",
      "metadata": {
        "id": "so40pqy5Tm0t",
        "colab_type": "text"
      },
      "source": [
        "Let's look again at our previous example with normal distributions:"
      ]
    },
    {
      "cell_type": "code",
      "metadata": {
        "id": "D8_ilc0lTm0u",
        "colab_type": "code",
        "outputId": "4ab6016a-0aef-4711-a83a-1e02654b4878",
        "colab": {
          "base_uri": "https://localhost:8080/",
          "height": 51
        }
      },
      "source": [
        "print('AUC ROC for classifier without weighted classes', auc_wo_class_weights)\n",
        "print('AUC ROC for classifier with weighted classes: ', auc_w_class_weights)"
      ],
      "execution_count": 0,
      "outputs": [
        {
          "output_type": "stream",
          "text": [
            "AUC ROC for classifier without weighted classes 0.8666666666666667\n",
            "AUC ROC for classifier with weighted classes:  0.895\n"
          ],
          "name": "stdout"
        }
      ]
    },
    {
      "cell_type": "markdown",
      "metadata": {
        "id": "qQIdXVnjTm0v",
        "colab_type": "text"
      },
      "source": [
        "Is the accuracy of the algorithm real, considering the fact, that testing data is imbalanced as training data was?\n",
        "We already know that the logistic regression algorithm is sensitive to class balancing. The test metric would have much more sense if the classes would be separated equally. Let's reformat data and recalculate scores:"
      ]
    },
    {
      "cell_type": "code",
      "metadata": {
        "id": "Ji6KQ_8zTm0w",
        "colab_type": "code",
        "outputId": "63e0628d-71de-4a98-e6ac-b33d56fecffa",
        "colab": {
          "base_uri": "https://localhost:8080/",
          "height": 299
        }
      },
      "source": [
        "example_data_train = np.vstack([data_0[:20,:], data_1[:20,:]])\n",
        "example_labels_train = np.concatenate([np.zeros((20)), np.ones((20))])\n",
        "example_data_test = np.vstack([data_0[20:,:], data_1[20:,:]])\n",
        "example_labels_test = np.concatenate([np.zeros((20)), np.ones((20))])\n",
        "\n",
        "optimizer = GridSearchCV(LogisticRegression(class_weight='balanced'), param_grid, cv=cv, n_jobs=-1)\n",
        "optimizer.fit(example_data_train, example_labels_train)\n",
        "Z = optimizer.predict(np.c_[xx.ravel(), yy.ravel()]).reshape(xx.shape)\n",
        "plt.pcolormesh(xx, yy, Z, cmap=plt.cm.Pastel2)\n",
        "plt.scatter(data_0[:,0], data_0[:,1], color='red')\n",
        "plt.scatter(data_1[:,0], data_1[:,1], color='blue')\n",
        "auc_stratified = roc_auc_score(example_labels_test, optimizer.predict_proba(example_data_test)[:,1])\n",
        "plt.title('With class weights')\n",
        "plt.show()\n",
        "print('AUC ROC for stratified samples: ', auc_stratified)"
      ],
      "execution_count": 0,
      "outputs": [
        {
          "output_type": "display_data",
          "data": {
            "image/png": "[encoded data removed]",
            "text/plain": [
              "<Figure size 432x288 with 1 Axes>"
            ]
          },
          "metadata": {
            "tags": []
          }
        },
        {
          "output_type": "stream",
          "text": [
            "AUC ROC for stratified samples:  0.9125\n"
          ],
          "name": "stdout"
        }
      ]
    },
    {
      "cell_type": "markdown",
      "metadata": {
        "id": "OK1dqQnjTm0y",
        "colab_type": "text"
      },
      "source": [
        "As we see, the classifier answer stayed pretty same, but AUC ROC increased. Depending oа balance of classes final metric on the test could increase or decrease, but we can trust it more because it was built in accordance with the classifier specific."
      ]
    },
    {
      "cell_type": "markdown",
      "metadata": {
        "id": "0f77HoEfTm0y",
        "colab_type": "text"
      },
      "source": [
        "## Task 4. Data stratification.\n",
        "\n",
        "1. As it was in task 1, form datasets X_real_zeros and X_cat_oh but now with adding in function\n",
        "        train_test_split(...)\n",
        "   additional parm \n",
        "       stratify=y\n",
        "   Also, don't forget about random_state=0.\n",
        "2. Do the feature scaling, train regression, considering balance, using weights. Check the accuracy max.\n",
        "3. Calculate AUC ROC on the test."
      ]
    },
    {
      "cell_type": "code",
      "metadata": {
        "id": "FXMEP7o1Tm0z",
        "colab_type": "code",
        "colab": {}
      },
      "source": [
        "from sklearn.model_selection import train_test_split\n",
        "\n",
        "(X_train_real_zeros, \n",
        " X_test_real_zeros, \n",
        " y_train, y_test) = train_test_split(X_real_zeros, y, \n",
        "                                     test_size=0.3, \n",
        "                                     random_state=0,\n",
        "                                     stratify=y)\n",
        "\n",
        "(X_train_cat_oh,\n",
        " X_test_cat_oh) = train_test_split(X_cat_oh, \n",
        "                                   test_size=0.3, \n",
        "                                   random_state=0,\n",
        "                                   stratify=y)"
      ],
      "execution_count": 0,
      "outputs": []
    },
    {
      "cell_type": "code",
      "metadata": {
        "id": "9egIkc5-Hco7",
        "colab_type": "code",
        "colab": {}
      },
      "source": [
        "scaler = StandardScaler()\n",
        "\n",
        "scaler.fit(X_train_real_zeros, y_train)\n",
        "X_train_real_scaled = scaler.transform(X_train_real_zeros)\n",
        "\n",
        "scaler.fit(X_test_real_zeros, y_test)\n",
        "X_test_real_scaled = scaler.transform(X_test_real_zeros)\n",
        "\n",
        "#stacking numerical and categorical features\n",
        "X_train_scaled = np.hstack( (X_train_real_scaled, X_train_cat_oh) )\n",
        "X_test_scaled = np.hstack( (X_test_real_scaled, X_test_cat_oh) )"
      ],
      "execution_count": 0,
      "outputs": []
    },
    {
      "cell_type": "code",
      "metadata": {
        "id": "TFsl5w2ZH0ux",
        "colab_type": "code",
        "outputId": "8140f49b-43cb-405c-8ecb-067c95e1ca07",
        "colab": {
          "base_uri": "https://localhost:8080/",
          "height": 374
        }
      },
      "source": [
        "optimizer = GridSearchCV(LogisticRegression(solver='liblinear', class_weight='balanced'), param_grid, cv=cv, n_jobs=-1)\n",
        "optimizer.fit(X_train_scaled, y_train)\n",
        "plot_scores(optimizer)\n",
        "\n",
        "roc_auc_score_strat = roc_auc_score(y_test, optimizer.best_estimator_.predict_proba(X_test_scaled)[:, 1])\n",
        "print (f'Best parameter for GridSearchCV with balanced weights: {optimizer_mean.best_params_}')\n",
        "print (f'roc_auc_score: {roc_auc_score_strat}')\n",
        "\n",
        "auc_w_class_weights = roc_auc_score(y_train, optimizer.predict_proba(X_train_scaled)[:,1])\n",
        "print('AUC: %f'%auc_w_class_weights)"
      ],
      "execution_count": 0,
      "outputs": [
        {
          "output_type": "stream",
          "text": [
            "/usr/local/lib/python3.6/dist-packages/joblib/externals/loky/process_executor.py:706: UserWarning: A worker stopped while some jobs were given to the executor. This can be caused by a too short worker timeout or by a memory leak.\n",
            "  \"timeout or by a memory leak.\", UserWarning\n"
          ],
          "name": "stderr"
        },
        {
          "output_type": "display_data",
          "data": {
            "image/png": "[encoded data removed]",
            "text/plain": [
              "<Figure size 432x288 with 1 Axes>"
            ]
          },
          "metadata": {
            "tags": []
          }
        },
        {
          "output_type": "stream",
          "text": [
            "Best parameter for GridSearchCV with balanced weights: {'C': 0.5}\n",
            "roc_auc_score: 0.8794071768692251\n",
            "AUC: 0.924437\n"
          ],
          "name": "stdout"
        }
      ]
    },
    {
      "cell_type": "markdown",
      "metadata": {
        "id": "2WBktrhETm00",
        "colab_type": "text"
      },
      "source": [
        "We looked through basic stages of data preprocessing for linear classifiers. \n",
        "\n",
        "\n",
        "*  Filling missed values\n",
        "*  Encoding categorial features\n",
        "*  Stratification\n",
        "*  Class balancing\n",
        "*  Scaling\n",
        "\n",
        "These stages are recommended every time you're working with linear regression models. Many of them are useful for other models too."
      ]
    },
    {
      "cell_type": "markdown",
      "metadata": {
        "id": "R_vjsWtPTm00",
        "colab_type": "text"
      },
      "source": [
        "## Features transformation\n",
        "\n",
        "There are many ways to transform features to produce more complex separating hyperplanes. One of the base methods called 'polynomial features'. The idea behind it is to include into dataset all polynoms of first degree that you can get by combining them. For examle: \n",
        "\n",
        "$$ \\phi(x_i) = [x_{i,1}^2, ..., x_{i,D}^2, x_{i,1}x_{i,2}, ..., x_{i,D} x_{i,D-1}, x_{i,1}, ..., x_{i,D}, 1] $$\n",
        "\n",
        "Let's look into it on our normal distributions example (again):"
      ]
    },
    {
      "cell_type": "code",
      "metadata": {
        "id": "LcXBwZjATm01",
        "colab_type": "code",
        "outputId": "7f40ffc2-407b-4a9a-8b78-b045e75d0e3a",
        "colab": {
          "base_uri": "https://localhost:8080/",
          "height": 316
        }
      },
      "source": [
        "from sklearn.preprocessing import PolynomialFeatures\n",
        "\n",
        "transform = PolynomialFeatures(2)\n",
        "\n",
        "example_data_train_poly = transform.fit_transform(example_data_train)\n",
        "example_data_test_poly = transform.transform(example_data_test)\n",
        "\n",
        "optimizer = GridSearchCV(LogisticRegression(solver='liblinear', class_weight='balanced', fit_intercept=False), param_grid, cv=cv, n_jobs=-1, iid=True)\n",
        "optimizer.fit(example_data_train_poly, example_labels_train)\n",
        "Z = optimizer.predict(transform.transform(np.c_[xx.ravel(), yy.ravel()])).reshape(xx.shape)\n",
        "plt.pcolormesh(xx, yy, Z, cmap=plt.cm.Pastel2)\n",
        "plt.scatter(data_0[:,0], data_0[:,1], color='red')\n",
        "plt.scatter(data_1[:,0], data_1[:,1], color='blue')\n",
        "plt.title('With class weights')\n",
        "plt.show()"
      ],
      "execution_count": 0,
      "outputs": [
        {
          "output_type": "stream",
          "text": [
            "/usr/local/lib/python3.6/dist-packages/sklearn/model_selection/_search.py:823: FutureWarning: The parameter 'iid' is deprecated in 0.22 and will be removed in 0.24.\n",
            "  \"removed in 0.24.\", FutureWarning\n"
          ],
          "name": "stderr"
        },
        {
          "output_type": "display_data",
          "data": {
            "image/png": "[encoded data removed]",
            "text/plain": [
              "<Figure size 432x288 with 1 Axes>"
            ]
          },
          "metadata": {
            "tags": []
          }
        }
      ]
    },
    {
      "cell_type": "markdown",
      "metadata": {
        "id": "04Yke9hSTm02",
        "colab_type": "text"
      },
      "source": [
        "As we can see, this method allows us to create more complex separating hyperplanes, which can estimate our data more precise and describe more complex functions. The number of features in a new model:"
      ]
    },
    {
      "cell_type": "code",
      "metadata": {
        "id": "0PSi6ZjGTm02",
        "colab_type": "code",
        "outputId": "f2425cf3-b418-4e16-aa5e-05e558c8f643",
        "colab": {
          "base_uri": "https://localhost:8080/",
          "height": 34
        }
      },
      "source": [
        "print(example_data_train_poly.shape)"
      ],
      "execution_count": 0,
      "outputs": [
        {
          "output_type": "stream",
          "text": [
            "(40, 6)\n"
          ],
          "name": "stdout"
        }
      ]
    },
    {
      "cell_type": "markdown",
      "metadata": {
        "id": "OWVU2ebCTm04",
        "colab_type": "text"
      },
      "source": [
        "But you need to remember, that this method can lead to overfitting due to the fast growth of a number of features with the growth of polynomial degree.\n",
        "Let's check, for example, p=11."
      ]
    },
    {
      "cell_type": "code",
      "metadata": {
        "id": "Q6tjZYDoTm04",
        "colab_type": "code",
        "outputId": "30e394d3-e26e-4b97-811c-8a2babedb4ec",
        "colab": {
          "base_uri": "https://localhost:8080/",
          "height": 316
        }
      },
      "source": [
        "transform = PolynomialFeatures(11)\n",
        "example_data_train_poly = transform.fit_transform(example_data_train)\n",
        "example_data_test_poly = transform.transform(example_data_test)\n",
        "optimizer = GridSearchCV(LogisticRegression(solver='liblinear', class_weight='balanced', fit_intercept=False), param_grid, cv=cv, n_jobs=-1, iid=True)\n",
        "optimizer.fit(example_data_train_poly, example_labels_train)\n",
        "Z = optimizer.predict(transform.transform(np.c_[xx.ravel(), yy.ravel()])).reshape(xx.shape)\n",
        "plt.pcolormesh(xx, yy, Z, cmap=plt.cm.Pastel2)\n",
        "plt.scatter(data_0[:,0], data_0[:,1], color='red')\n",
        "plt.scatter(data_1[:,0], data_1[:,1], color='blue')\n",
        "plt.title('Corrected class weights')\n",
        "plt.show()"
      ],
      "execution_count": 0,
      "outputs": [
        {
          "output_type": "stream",
          "text": [
            "/usr/local/lib/python3.6/dist-packages/sklearn/model_selection/_search.py:823: FutureWarning: The parameter 'iid' is deprecated in 0.22 and will be removed in 0.24.\n",
            "  \"removed in 0.24.\", FutureWarning\n"
          ],
          "name": "stderr"
        },
        {
          "output_type": "display_data",
          "data": {
            "image/png": "[encoded data removed]",
            "text/plain": [
              "<Figure size 432x288 with 1 Axes>"
            ]
          },
          "metadata": {
            "tags": []
          }
        }
      ]
    },
    {
      "cell_type": "markdown",
      "metadata": {
        "id": "Ss14M4mATm05",
        "colab_type": "text"
      },
      "source": [
        "The number of features in a new model:"
      ]
    },
    {
      "cell_type": "code",
      "metadata": {
        "id": "QPSQ6UIxTm06",
        "colab_type": "code",
        "outputId": "b53bc8e0-e73b-4100-bfd5-58dc2c5e3dc0",
        "colab": {
          "base_uri": "https://localhost:8080/",
          "height": 34
        }
      },
      "source": [
        "print(example_data_train_poly.shape)"
      ],
      "execution_count": 0,
      "outputs": [
        {
          "output_type": "stream",
          "text": [
            "(40, 78)\n"
          ],
          "name": "stdout"
        }
      ]
    },
    {
      "cell_type": "markdown",
      "metadata": {
        "id": "4l89bZ7tTm07",
        "colab_type": "text"
      },
      "source": [
        "## Task 5. Numerical features transformations.\n",
        "\n",
        "1. Transform numeric features of our model with a polynomial with degree 2.\n",
        "2. Train logistic regression on a new dataset with optimal C params. In transformed features already exists a column filled with ones, so you need to pass additional param:\n",
        "\n",
        "`fit_intercept=False`\n",
        "\n",
        "      when training it. Use stratified datasets with weight-balanced classes.\n",
        "      You need to do scaling on transformed features. \n",
        "3. Calculate AUC ROC on test data and compare it to the previous results."
      ]
    },
    {
      "cell_type": "code",
      "metadata": {
        "id": "BYKzA0vkTm08",
        "colab_type": "code",
        "colab": {}
      },
      "source": [
        "transform = PolynomialFeatures(3)\n",
        "\n",
        "data_train_poly = transform.fit_transform(X_train_real_zeros)\n",
        "data_test_poly = transform.transform(X_test_real_zeros)\n",
        "\n",
        "encoder = StandardScaler()\n",
        "\n",
        "data_train_poly_scaled = scaler.fit_transform(data_train_poly, y_train)\n",
        "data_test_poly_scaled = scaler.fit_transform(data_test_poly)\n",
        "\n",
        "#stacking numerical and categorical features\n",
        "data_train_poly_full = np.hstack( (data_train_poly_scaled, X_train_cat_oh) )\n",
        "data_test_poly_full = np.hstack( (data_test_poly_scaled, X_test_cat_oh) )"
      ],
      "execution_count": 0,
      "outputs": []
    },
    {
      "cell_type": "code",
      "metadata": {
        "id": "TKon9uW5O3tz",
        "colab_type": "code",
        "outputId": "379f6ae9-c0cc-442d-894f-badf155b3b12",
        "colab": {
          "base_uri": "https://localhost:8080/",
          "height": 85
        }
      },
      "source": [
        "param_grid = {'C': [0.01, 0.05, 0.1, 0.5, 1, 5, 10]}\n",
        "cv = 3\n",
        "estimator = LogisticRegression(solver='liblinear', class_weight='balanced', fit_intercept=False)\n",
        "\n",
        "optimizer = GridSearchCV(estimator, param_grid, cv=cv, iid=True)\n",
        "optimizer.fit(data_train_poly_full, y_train)\n",
        "\n",
        "\n",
        "roc_auc_score_poly = roc_auc_score(y_test, optimizer.best_estimator_.predict_proba(data_test_poly_full)[:, 1])\n",
        "print (f'Best parameter for GridSearchCV with balanced weights: {optimizer.best_params_}')\n",
        "print (f'roc_auc_score: {roc_auc_score_poly}')"
      ],
      "execution_count": 0,
      "outputs": [
        {
          "output_type": "stream",
          "text": [
            "/usr/local/lib/python3.6/dist-packages/sklearn/model_selection/_search.py:823: FutureWarning: The parameter 'iid' is deprecated in 0.22 and will be removed in 0.24.\n",
            "  \"removed in 0.24.\", FutureWarning\n"
          ],
          "name": "stderr"
        },
        {
          "output_type": "stream",
          "text": [
            "Best parameter for GridSearchCV with balanced weights: {'C': 0.1}\n",
            "roc_auc_score: 0.8908424512013694\n"
          ],
          "name": "stdout"
        }
      ]
    },
    {
      "cell_type": "markdown",
      "metadata": {
        "id": "4O6yeFsdTm09",
        "colab_type": "text"
      },
      "source": [
        "## Lasso Regression.\n",
        "You can also apply L1 regularization to logistic regression. L1 regularization will help to 'select' the features. Apply L1 regularization to data features and interpret the results. To use L1 regularization, you just need to pass \"penalty='l1'\" param to class initialization."
      ]
    },
    {
      "cell_type": "markdown",
      "metadata": {
        "id": "QjqaRfTKTm0-",
        "colab_type": "text"
      },
      "source": [
        "## Task 6. Feature selection with Lasso regression.\n",
        "1. Train Lasso regression on stratified data, using weight balanced classes.\n",
        "2. Calculate AUC ROC, compare it to the previous results.\n",
        "3. Find features, that had zero weights in the model."
      ]
    },
    {
      "cell_type": "code",
      "metadata": {
        "id": "qghKL6LBTm0-",
        "colab_type": "code",
        "outputId": "2427a13a-749e-4d52-d8d5-3c6a40a9ab63",
        "colab": {
          "base_uri": "https://localhost:8080/",
          "height": 153
        }
      },
      "source": [
        "encoder = StandardScaler()\n",
        "\n",
        "data_train_lasso_scaled = encoder.fit_transform(X_train_real_zeros)\n",
        "data_test_lasso_scaled = encoder.fit_transform(X_test_real_zeros)\n",
        "\n",
        "#stacking numerical and categorical features\n",
        "data_train_lasso_full = np.hstack( (data_train_lasso_scaled, X_train_cat_oh) )\n",
        "data_test_lasso_full = np.hstack( (data_test_lasso_scaled, X_test_cat_oh) )\n",
        "\n",
        "#GridSearchCV parameters\n",
        "param_grid = {'C': [0.01, 0.05, 0.1, 0.5, 1, 5, 10]}\n",
        "cv = 3\n",
        "estimator = LogisticRegression(solver='liblinear', class_weight='balanced', fit_intercept=False, penalty='l1')\n",
        "\n",
        "optimizer = GridSearchCV(estimator, param_grid, cv=cv, iid=True)\n",
        "optimizer.fit(data_train_lasso_full, y_train)\n",
        "\n",
        "roc_auc_score_lasso = roc_auc_score(y_test, optimizer.best_estimator_.predict_proba(data_test_lasso_full)[:, 1])\n",
        "print ('Best parameter for GridSearchCV with balanced weights', optimizer.best_params_)\n",
        "print ('roc_auc_score', roc_auc_score_lasso)\n",
        "\n",
        "print (optimizer.best_estimator_.coef_.ravel())\n",
        "print (X_train_real_zeros.shape[1])\n",
        "zero_coefs = [index for index, value in enumerate(optimizer.best_estimator_.coef_[0][:13]) if value == 0]\n",
        "print (zero_coefs)"
      ],
      "execution_count": 0,
      "outputs": [
        {
          "output_type": "stream",
          "text": [
            "/usr/local/lib/python3.6/dist-packages/sklearn/model_selection/_search.py:823: FutureWarning: The parameter 'iid' is deprecated in 0.22 and will be removed in 0.24.\n",
            "  \"removed in 0.24.\", FutureWarning\n"
          ],
          "name": "stderr"
        },
        {
          "output_type": "stream",
          "text": [
            "Best parameter for GridSearchCV with balanced weights {'C': 1}\n",
            "roc_auc_score 0.8766655969031589\n",
            "[ 0.00899071  0.03989431 -0.08870299 ...  0.67698004  0.\n",
            "  0.34710606]\n",
            "13\n",
            "[4, 6, 7]\n"
          ],
          "name": "stdout"
        }
      ]
    }
  ]
}