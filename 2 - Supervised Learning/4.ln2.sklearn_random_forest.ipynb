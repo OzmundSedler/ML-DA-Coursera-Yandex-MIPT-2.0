{
  "nbformat": 4,
  "nbformat_minor": 0,
  "metadata": {
    "colab": {
      "name": "sklearn.random_forest.ipynb",
      "provenance": [],
      "collapsed_sections": []
    },
    "kernelspec": {
      "name": "python3",
      "display_name": "Python 3"
    },
    "accelerator": "GPU"
  },
  "cells": [
    {
      "cell_type": "markdown",
      "metadata": {
        "id": "HwEO9DcxbkX7",
        "colab_type": "text"
      },
      "source": [
        "# Sklearn"
      ]
    },
    {
      "cell_type": "markdown",
      "metadata": {
        "id": "X89gbtvybkX9",
        "colab_type": "text"
      },
      "source": [
        "## sklearn.ensemble.RandomForestClassifier"
      ]
    },
    {
      "cell_type": "markdown",
      "metadata": {
        "id": "SfEqgpCmbkX-",
        "colab_type": "text"
      },
      "source": [
        "Docs:  http://scikit-learn.org/stable/modules/generated/sklearn.ensemble.RandomForestClassifier.html"
      ]
    },
    {
      "cell_type": "code",
      "metadata": {
        "id": "QngtCGxSbkX_",
        "colab_type": "code",
        "outputId": "c028ea02-724b-4a13-bb3d-50d3882eaefa",
        "colab": {
          "base_uri": "https://localhost:8080/",
          "height": 34
        }
      },
      "source": [
        "%pylab inline"
      ],
      "execution_count": 0,
      "outputs": [
        {
          "output_type": "stream",
          "text": [
            "Populating the interactive namespace from numpy and matplotlib\n"
          ],
          "name": "stdout"
        }
      ]
    },
    {
      "cell_type": "code",
      "metadata": {
        "id": "9E1IFR-JbkYC",
        "colab_type": "code",
        "colab": {}
      },
      "source": [
        "from sklearn.model_selection import cross_validate, learning_curve\n",
        "from sklearn import metrics, ensemble\n",
        "\n",
        "import numpy as np\n",
        "import pandas as pd"
      ],
      "execution_count": 0,
      "outputs": []
    },
    {
      "cell_type": "markdown",
      "metadata": {
        "id": "gl-iWHDpbkYF",
        "colab_type": "text"
      },
      "source": [
        "### Data"
      ]
    },
    {
      "cell_type": "markdown",
      "metadata": {
        "id": "QlSpYoG0bkYG",
        "colab_type": "text"
      },
      "source": [
        "Kaggle competition: https://www.kaggle.com/c/bioresponse\n",
        "\n",
        "Data: https://www.kaggle.com/c/bioresponse/data\n",
        "\n",
        "The objective of the competition is to help us build as good a model as possible so that we can, as optimally as this data allows, relate molecular information, to an actual biological response.\n",
        "\n",
        "We have shared the data in the comma separated values (CSV) format. Each row in this data set represents a molecule. The first column contains experimental data describing an actual biological response; the molecule was seen to elicit this response (1), or not (0). The remaining columns represent molecular descriptors (d1 through d1776), these are calculated properties that can capture some of the characteristics of the molecule - for example size, shape, or elemental constitution. The descriptor matrix has been normalized."
      ]
    },
    {
      "cell_type": "code",
      "metadata": {
        "id": "WtvxQzh5bkYG",
        "colab_type": "code",
        "colab": {}
      },
      "source": [
        "bioresponce = pd.read_csv('https://raw.githubusercontent.com/OzmundSedler/100-Days-Of-ML-Code/master/week%201/datasets/bioresponse.csv', header=0, sep=',')"
      ],
      "execution_count": 0,
      "outputs": []
    },
    {
      "cell_type": "code",
      "metadata": {
        "id": "JyANgvQkbkYK",
        "colab_type": "code",
        "outputId": "db548bde-441e-40f6-b1e5-b975a8a575fc",
        "colab": {
          "base_uri": "https://localhost:8080/",
          "height": 253
        }
      },
      "source": [
        "bioresponce.head()"
      ],
      "execution_count": 0,
      "outputs": [
        {
          "output_type": "execute_result",
          "data": {
            "text/html": [
              "<div>\n",
              "<style scoped>\n",
              "    .dataframe tbody tr th:only-of-type {\n",
              "        vertical-align: middle;\n",
              "    }\n",
              "\n",
              "    .dataframe tbody tr th {\n",
              "        vertical-align: top;\n",
              "    }\n",
              "\n",
              "    .dataframe thead th {\n",
              "        text-align: right;\n",
              "    }\n",
              "</style>\n",
              "<table border=\"1\" class=\"dataframe\">\n",
              "  <thead>\n",
              "    <tr style=\"text-align: right;\">\n",
              "      <th></th>\n",
              "      <th>Activity</th>\n",
              "      <th>D1</th>\n",
              "      <th>D2</th>\n",
              "      <th>D3</th>\n",
              "      <th>D4</th>\n",
              "      <th>D5</th>\n",
              "      <th>D6</th>\n",
              "      <th>D7</th>\n",
              "      <th>D8</th>\n",
              "      <th>D9</th>\n",
              "      <th>D10</th>\n",
              "      <th>D11</th>\n",
              "      <th>D12</th>\n",
              "      <th>D13</th>\n",
              "      <th>D14</th>\n",
              "      <th>D15</th>\n",
              "      <th>D16</th>\n",
              "      <th>D17</th>\n",
              "      <th>D18</th>\n",
              "      <th>D19</th>\n",
              "      <th>D20</th>\n",
              "      <th>D21</th>\n",
              "      <th>D22</th>\n",
              "      <th>D23</th>\n",
              "      <th>D24</th>\n",
              "      <th>D25</th>\n",
              "      <th>D26</th>\n",
              "      <th>D27</th>\n",
              "      <th>D28</th>\n",
              "      <th>D29</th>\n",
              "      <th>D30</th>\n",
              "      <th>D31</th>\n",
              "      <th>D32</th>\n",
              "      <th>D33</th>\n",
              "      <th>D34</th>\n",
              "      <th>D35</th>\n",
              "      <th>D36</th>\n",
              "      <th>D37</th>\n",
              "      <th>D38</th>\n",
              "      <th>D39</th>\n",
              "      <th>...</th>\n",
              "      <th>D1737</th>\n",
              "      <th>D1738</th>\n",
              "      <th>D1739</th>\n",
              "      <th>D1740</th>\n",
              "      <th>D1741</th>\n",
              "      <th>D1742</th>\n",
              "      <th>D1743</th>\n",
              "      <th>D1744</th>\n",
              "      <th>D1745</th>\n",
              "      <th>D1746</th>\n",
              "      <th>D1747</th>\n",
              "      <th>D1748</th>\n",
              "      <th>D1749</th>\n",
              "      <th>D1750</th>\n",
              "      <th>D1751</th>\n",
              "      <th>D1752</th>\n",
              "      <th>D1753</th>\n",
              "      <th>D1754</th>\n",
              "      <th>D1755</th>\n",
              "      <th>D1756</th>\n",
              "      <th>D1757</th>\n",
              "      <th>D1758</th>\n",
              "      <th>D1759</th>\n",
              "      <th>D1760</th>\n",
              "      <th>D1761</th>\n",
              "      <th>D1762</th>\n",
              "      <th>D1763</th>\n",
              "      <th>D1764</th>\n",
              "      <th>D1765</th>\n",
              "      <th>D1766</th>\n",
              "      <th>D1767</th>\n",
              "      <th>D1768</th>\n",
              "      <th>D1769</th>\n",
              "      <th>D1770</th>\n",
              "      <th>D1771</th>\n",
              "      <th>D1772</th>\n",
              "      <th>D1773</th>\n",
              "      <th>D1774</th>\n",
              "      <th>D1775</th>\n",
              "      <th>D1776</th>\n",
              "    </tr>\n",
              "  </thead>\n",
              "  <tbody>\n",
              "    <tr>\n",
              "      <th>0</th>\n",
              "      <td>1</td>\n",
              "      <td>0.000000</td>\n",
              "      <td>0.497009</td>\n",
              "      <td>0.10</td>\n",
              "      <td>0.0</td>\n",
              "      <td>0.132956</td>\n",
              "      <td>0.678031</td>\n",
              "      <td>0.273166</td>\n",
              "      <td>0.585445</td>\n",
              "      <td>0.743663</td>\n",
              "      <td>0.243144</td>\n",
              "      <td>0.187856</td>\n",
              "      <td>0.0000</td>\n",
              "      <td>0.000000</td>\n",
              "      <td>0.069000</td>\n",
              "      <td>0.362012</td>\n",
              "      <td>0.301773</td>\n",
              "      <td>0.597930</td>\n",
              "      <td>0.190813</td>\n",
              "      <td>0.107219</td>\n",
              "      <td>0.070500</td>\n",
              "      <td>0.00717</td>\n",
              "      <td>0.137931</td>\n",
              "      <td>1</td>\n",
              "      <td>0.00</td>\n",
              "      <td>0.496683</td>\n",
              "      <td>0.753131</td>\n",
              "      <td>1</td>\n",
              "      <td>1</td>\n",
              "      <td>0.000000</td>\n",
              "      <td>0.262919</td>\n",
              "      <td>0.077200</td>\n",
              "      <td>0.082700</td>\n",
              "      <td>0.200590</td>\n",
              "      <td>0.00000</td>\n",
              "      <td>0.000000</td>\n",
              "      <td>0.0</td>\n",
              "      <td>0.0</td>\n",
              "      <td>0.162383</td>\n",
              "      <td>0.150153</td>\n",
              "      <td>...</td>\n",
              "      <td>0</td>\n",
              "      <td>0</td>\n",
              "      <td>0</td>\n",
              "      <td>0</td>\n",
              "      <td>0</td>\n",
              "      <td>0</td>\n",
              "      <td>0</td>\n",
              "      <td>0</td>\n",
              "      <td>0</td>\n",
              "      <td>0</td>\n",
              "      <td>0</td>\n",
              "      <td>0</td>\n",
              "      <td>0</td>\n",
              "      <td>0</td>\n",
              "      <td>0</td>\n",
              "      <td>0</td>\n",
              "      <td>0</td>\n",
              "      <td>0</td>\n",
              "      <td>0</td>\n",
              "      <td>0</td>\n",
              "      <td>0</td>\n",
              "      <td>0</td>\n",
              "      <td>0</td>\n",
              "      <td>0</td>\n",
              "      <td>0</td>\n",
              "      <td>0</td>\n",
              "      <td>0</td>\n",
              "      <td>0</td>\n",
              "      <td>0</td>\n",
              "      <td>0</td>\n",
              "      <td>0</td>\n",
              "      <td>0</td>\n",
              "      <td>0</td>\n",
              "      <td>0</td>\n",
              "      <td>0</td>\n",
              "      <td>0</td>\n",
              "      <td>0</td>\n",
              "      <td>0</td>\n",
              "      <td>0</td>\n",
              "      <td>0</td>\n",
              "    </tr>\n",
              "    <tr>\n",
              "      <th>1</th>\n",
              "      <td>1</td>\n",
              "      <td>0.366667</td>\n",
              "      <td>0.606291</td>\n",
              "      <td>0.05</td>\n",
              "      <td>0.0</td>\n",
              "      <td>0.111209</td>\n",
              "      <td>0.803455</td>\n",
              "      <td>0.106105</td>\n",
              "      <td>0.411754</td>\n",
              "      <td>0.836582</td>\n",
              "      <td>0.106480</td>\n",
              "      <td>0.101382</td>\n",
              "      <td>0.1875</td>\n",
              "      <td>0.193548</td>\n",
              "      <td>0.131001</td>\n",
              "      <td>0.350206</td>\n",
              "      <td>0.187419</td>\n",
              "      <td>0.762669</td>\n",
              "      <td>0.180473</td>\n",
              "      <td>0.329962</td>\n",
              "      <td>0.107681</td>\n",
              "      <td>0.01950</td>\n",
              "      <td>0.206897</td>\n",
              "      <td>0</td>\n",
              "      <td>0.75</td>\n",
              "      <td>0.449869</td>\n",
              "      <td>0.720484</td>\n",
              "      <td>0</td>\n",
              "      <td>0</td>\n",
              "      <td>0.666667</td>\n",
              "      <td>0.099400</td>\n",
              "      <td>0.289240</td>\n",
              "      <td>0.216710</td>\n",
              "      <td>0.100295</td>\n",
              "      <td>0.16958</td>\n",
              "      <td>0.235294</td>\n",
              "      <td>0.0</td>\n",
              "      <td>0.0</td>\n",
              "      <td>0.119104</td>\n",
              "      <td>0.075100</td>\n",
              "      <td>...</td>\n",
              "      <td>0</td>\n",
              "      <td>1</td>\n",
              "      <td>1</td>\n",
              "      <td>0</td>\n",
              "      <td>0</td>\n",
              "      <td>0</td>\n",
              "      <td>1</td>\n",
              "      <td>1</td>\n",
              "      <td>0</td>\n",
              "      <td>1</td>\n",
              "      <td>0</td>\n",
              "      <td>0</td>\n",
              "      <td>1</td>\n",
              "      <td>0</td>\n",
              "      <td>1</td>\n",
              "      <td>1</td>\n",
              "      <td>1</td>\n",
              "      <td>0</td>\n",
              "      <td>0</td>\n",
              "      <td>0</td>\n",
              "      <td>1</td>\n",
              "      <td>0</td>\n",
              "      <td>0</td>\n",
              "      <td>0</td>\n",
              "      <td>1</td>\n",
              "      <td>0</td>\n",
              "      <td>1</td>\n",
              "      <td>1</td>\n",
              "      <td>0</td>\n",
              "      <td>0</td>\n",
              "      <td>1</td>\n",
              "      <td>1</td>\n",
              "      <td>1</td>\n",
              "      <td>1</td>\n",
              "      <td>0</td>\n",
              "      <td>1</td>\n",
              "      <td>0</td>\n",
              "      <td>0</td>\n",
              "      <td>1</td>\n",
              "      <td>0</td>\n",
              "    </tr>\n",
              "    <tr>\n",
              "      <th>2</th>\n",
              "      <td>1</td>\n",
              "      <td>0.033300</td>\n",
              "      <td>0.480124</td>\n",
              "      <td>0.00</td>\n",
              "      <td>0.0</td>\n",
              "      <td>0.209791</td>\n",
              "      <td>0.610350</td>\n",
              "      <td>0.356453</td>\n",
              "      <td>0.517720</td>\n",
              "      <td>0.679051</td>\n",
              "      <td>0.352308</td>\n",
              "      <td>0.193548</td>\n",
              "      <td>0.1250</td>\n",
              "      <td>0.000000</td>\n",
              "      <td>0.068900</td>\n",
              "      <td>0.574628</td>\n",
              "      <td>0.283327</td>\n",
              "      <td>0.510633</td>\n",
              "      <td>0.184480</td>\n",
              "      <td>0.073300</td>\n",
              "      <td>0.061600</td>\n",
              "      <td>0.00566</td>\n",
              "      <td>0.000000</td>\n",
              "      <td>1</td>\n",
              "      <td>0.00</td>\n",
              "      <td>0.486610</td>\n",
              "      <td>0.803577</td>\n",
              "      <td>0</td>\n",
              "      <td>1</td>\n",
              "      <td>0.000000</td>\n",
              "      <td>0.428659</td>\n",
              "      <td>0.032400</td>\n",
              "      <td>0.072400</td>\n",
              "      <td>0.000000</td>\n",
              "      <td>0.03930</td>\n",
              "      <td>0.000000</td>\n",
              "      <td>0.0</td>\n",
              "      <td>0.0</td>\n",
              "      <td>0.076100</td>\n",
              "      <td>0.225229</td>\n",
              "      <td>...</td>\n",
              "      <td>0</td>\n",
              "      <td>0</td>\n",
              "      <td>0</td>\n",
              "      <td>0</td>\n",
              "      <td>0</td>\n",
              "      <td>0</td>\n",
              "      <td>0</td>\n",
              "      <td>0</td>\n",
              "      <td>0</td>\n",
              "      <td>0</td>\n",
              "      <td>0</td>\n",
              "      <td>0</td>\n",
              "      <td>0</td>\n",
              "      <td>0</td>\n",
              "      <td>0</td>\n",
              "      <td>0</td>\n",
              "      <td>0</td>\n",
              "      <td>0</td>\n",
              "      <td>0</td>\n",
              "      <td>0</td>\n",
              "      <td>0</td>\n",
              "      <td>0</td>\n",
              "      <td>0</td>\n",
              "      <td>0</td>\n",
              "      <td>0</td>\n",
              "      <td>0</td>\n",
              "      <td>0</td>\n",
              "      <td>0</td>\n",
              "      <td>0</td>\n",
              "      <td>0</td>\n",
              "      <td>0</td>\n",
              "      <td>0</td>\n",
              "      <td>0</td>\n",
              "      <td>0</td>\n",
              "      <td>0</td>\n",
              "      <td>0</td>\n",
              "      <td>0</td>\n",
              "      <td>0</td>\n",
              "      <td>0</td>\n",
              "      <td>0</td>\n",
              "    </tr>\n",
              "    <tr>\n",
              "      <th>3</th>\n",
              "      <td>1</td>\n",
              "      <td>0.000000</td>\n",
              "      <td>0.538825</td>\n",
              "      <td>0.00</td>\n",
              "      <td>0.5</td>\n",
              "      <td>0.196344</td>\n",
              "      <td>0.724230</td>\n",
              "      <td>0.235606</td>\n",
              "      <td>0.288764</td>\n",
              "      <td>0.805110</td>\n",
              "      <td>0.208989</td>\n",
              "      <td>0.000000</td>\n",
              "      <td>0.0000</td>\n",
              "      <td>0.000000</td>\n",
              "      <td>0.145947</td>\n",
              "      <td>0.584688</td>\n",
              "      <td>0.325247</td>\n",
              "      <td>0.496745</td>\n",
              "      <td>0.242288</td>\n",
              "      <td>0.087700</td>\n",
              "      <td>0.075300</td>\n",
              "      <td>0.01680</td>\n",
              "      <td>0.000000</td>\n",
              "      <td>1</td>\n",
              "      <td>0.00</td>\n",
              "      <td>0.459122</td>\n",
              "      <td>0.829482</td>\n",
              "      <td>0</td>\n",
              "      <td>1</td>\n",
              "      <td>0.000000</td>\n",
              "      <td>0.435410</td>\n",
              "      <td>0.118562</td>\n",
              "      <td>0.000000</td>\n",
              "      <td>0.000000</td>\n",
              "      <td>0.00000</td>\n",
              "      <td>0.000000</td>\n",
              "      <td>0.0</td>\n",
              "      <td>0.0</td>\n",
              "      <td>0.068900</td>\n",
              "      <td>0.000000</td>\n",
              "      <td>...</td>\n",
              "      <td>0</td>\n",
              "      <td>0</td>\n",
              "      <td>0</td>\n",
              "      <td>0</td>\n",
              "      <td>0</td>\n",
              "      <td>0</td>\n",
              "      <td>0</td>\n",
              "      <td>0</td>\n",
              "      <td>0</td>\n",
              "      <td>0</td>\n",
              "      <td>0</td>\n",
              "      <td>0</td>\n",
              "      <td>0</td>\n",
              "      <td>0</td>\n",
              "      <td>0</td>\n",
              "      <td>0</td>\n",
              "      <td>0</td>\n",
              "      <td>0</td>\n",
              "      <td>0</td>\n",
              "      <td>0</td>\n",
              "      <td>0</td>\n",
              "      <td>0</td>\n",
              "      <td>0</td>\n",
              "      <td>0</td>\n",
              "      <td>0</td>\n",
              "      <td>0</td>\n",
              "      <td>0</td>\n",
              "      <td>0</td>\n",
              "      <td>0</td>\n",
              "      <td>0</td>\n",
              "      <td>0</td>\n",
              "      <td>0</td>\n",
              "      <td>0</td>\n",
              "      <td>0</td>\n",
              "      <td>0</td>\n",
              "      <td>0</td>\n",
              "      <td>0</td>\n",
              "      <td>0</td>\n",
              "      <td>0</td>\n",
              "      <td>0</td>\n",
              "    </tr>\n",
              "    <tr>\n",
              "      <th>4</th>\n",
              "      <td>0</td>\n",
              "      <td>0.100000</td>\n",
              "      <td>0.517794</td>\n",
              "      <td>0.00</td>\n",
              "      <td>0.0</td>\n",
              "      <td>0.494734</td>\n",
              "      <td>0.781422</td>\n",
              "      <td>0.154361</td>\n",
              "      <td>0.303809</td>\n",
              "      <td>0.812646</td>\n",
              "      <td>0.125177</td>\n",
              "      <td>0.532258</td>\n",
              "      <td>0.0000</td>\n",
              "      <td>0.000000</td>\n",
              "      <td>0.094900</td>\n",
              "      <td>0.540323</td>\n",
              "      <td>0.116775</td>\n",
              "      <td>0.552982</td>\n",
              "      <td>0.167897</td>\n",
              "      <td>0.116140</td>\n",
              "      <td>0.054200</td>\n",
              "      <td>0.01350</td>\n",
              "      <td>0.103448</td>\n",
              "      <td>1</td>\n",
              "      <td>0.00</td>\n",
              "      <td>0.381883</td>\n",
              "      <td>0.913374</td>\n",
              "      <td>0</td>\n",
              "      <td>1</td>\n",
              "      <td>0.000000</td>\n",
              "      <td>0.305333</td>\n",
              "      <td>0.054100</td>\n",
              "      <td>0.170822</td>\n",
              "      <td>0.000000</td>\n",
              "      <td>0.00000</td>\n",
              "      <td>0.176471</td>\n",
              "      <td>0.0</td>\n",
              "      <td>0.0</td>\n",
              "      <td>0.019900</td>\n",
              "      <td>0.057400</td>\n",
              "      <td>...</td>\n",
              "      <td>0</td>\n",
              "      <td>0</td>\n",
              "      <td>0</td>\n",
              "      <td>0</td>\n",
              "      <td>0</td>\n",
              "      <td>0</td>\n",
              "      <td>0</td>\n",
              "      <td>0</td>\n",
              "      <td>0</td>\n",
              "      <td>0</td>\n",
              "      <td>0</td>\n",
              "      <td>0</td>\n",
              "      <td>0</td>\n",
              "      <td>0</td>\n",
              "      <td>0</td>\n",
              "      <td>0</td>\n",
              "      <td>0</td>\n",
              "      <td>0</td>\n",
              "      <td>0</td>\n",
              "      <td>0</td>\n",
              "      <td>0</td>\n",
              "      <td>0</td>\n",
              "      <td>0</td>\n",
              "      <td>0</td>\n",
              "      <td>0</td>\n",
              "      <td>0</td>\n",
              "      <td>0</td>\n",
              "      <td>0</td>\n",
              "      <td>0</td>\n",
              "      <td>0</td>\n",
              "      <td>0</td>\n",
              "      <td>0</td>\n",
              "      <td>0</td>\n",
              "      <td>0</td>\n",
              "      <td>0</td>\n",
              "      <td>0</td>\n",
              "      <td>0</td>\n",
              "      <td>0</td>\n",
              "      <td>0</td>\n",
              "      <td>0</td>\n",
              "    </tr>\n",
              "  </tbody>\n",
              "</table>\n",
              "<p>5 rows × 1777 columns</p>\n",
              "</div>"
            ],
            "text/plain": [
              "   Activity        D1        D2    D3   D4  ...  D1772  D1773  D1774  D1775  D1776\n",
              "0         1  0.000000  0.497009  0.10  0.0  ...      0      0      0      0      0\n",
              "1         1  0.366667  0.606291  0.05  0.0  ...      1      0      0      1      0\n",
              "2         1  0.033300  0.480124  0.00  0.0  ...      0      0      0      0      0\n",
              "3         1  0.000000  0.538825  0.00  0.5  ...      0      0      0      0      0\n",
              "4         0  0.100000  0.517794  0.00  0.0  ...      0      0      0      0      0\n",
              "\n",
              "[5 rows x 1777 columns]"
            ]
          },
          "metadata": {
            "tags": []
          },
          "execution_count": 8
        }
      ]
    },
    {
      "cell_type": "code",
      "metadata": {
        "id": "yLIJcxQ1bkYM",
        "colab_type": "code",
        "outputId": "ffaaf366-2357-482e-9cef-9cd012b0d6de",
        "colab": {
          "base_uri": "https://localhost:8080/",
          "height": 34
        }
      },
      "source": [
        "bioresponce.shape"
      ],
      "execution_count": 0,
      "outputs": [
        {
          "output_type": "execute_result",
          "data": {
            "text/plain": [
              "(3751, 1777)"
            ]
          },
          "metadata": {
            "tags": []
          },
          "execution_count": 9
        }
      ]
    },
    {
      "cell_type": "code",
      "metadata": {
        "id": "tyNPivIjbkYO",
        "colab_type": "code",
        "outputId": "c7f85529-e508-44c0-b747-5680df4412f1",
        "colab": {
          "base_uri": "https://localhost:8080/",
          "height": 102
        }
      },
      "source": [
        "bioresponce.columns"
      ],
      "execution_count": 0,
      "outputs": [
        {
          "output_type": "execute_result",
          "data": {
            "text/plain": [
              "Index(['Activity', 'D1', 'D2', 'D3', 'D4', 'D5', 'D6', 'D7', 'D8', 'D9',\n",
              "       ...\n",
              "       'D1767', 'D1768', 'D1769', 'D1770', 'D1771', 'D1772', 'D1773', 'D1774',\n",
              "       'D1775', 'D1776'],\n",
              "      dtype='object', length=1777)"
            ]
          },
          "metadata": {
            "tags": []
          },
          "execution_count": 10
        }
      ]
    },
    {
      "cell_type": "code",
      "metadata": {
        "id": "exDE1_WXbkYR",
        "colab_type": "code",
        "colab": {}
      },
      "source": [
        "bioresponce_target = bioresponce.Activity.values"
      ],
      "execution_count": 0,
      "outputs": []
    },
    {
      "cell_type": "code",
      "metadata": {
        "id": "IetmHerHbkYU",
        "colab_type": "code",
        "outputId": "2012caac-0976-44dc-e756-a81477bbd7c0",
        "colab": {
          "base_uri": "https://localhost:8080/",
          "height": 51
        }
      },
      "source": [
        "print ('bioresponse = 1: {:.2f}\\nbioresponse = 0: {:.2f}'.format(sum(bioresponce_target)/float(len(bioresponce_target)), \n",
        "                1.0 - sum(bioresponce_target)/float(len(bioresponce_target))))"
      ],
      "execution_count": 0,
      "outputs": [
        {
          "output_type": "stream",
          "text": [
            "bioresponse = 1: 0.54\n",
            "bioresponse = 0: 0.46\n"
          ],
          "name": "stdout"
        }
      ]
    },
    {
      "cell_type": "code",
      "metadata": {
        "id": "LQZ7-H1mbkYY",
        "colab_type": "code",
        "colab": {}
      },
      "source": [
        "bioresponce_data = bioresponce.iloc[:, 1:]"
      ],
      "execution_count": 0,
      "outputs": []
    },
    {
      "cell_type": "markdown",
      "metadata": {
        "id": "ZkE8BQvnbkYc",
        "colab_type": "text"
      },
      "source": [
        "### RandomForestClassifier"
      ]
    },
    {
      "cell_type": "markdown",
      "metadata": {
        "id": "HtJpwpDFbkYd",
        "colab_type": "text"
      },
      "source": [
        "#### Learning curves for decision trees with low depth\n"
      ]
    },
    {
      "cell_type": "code",
      "metadata": {
        "id": "_qpiuXEebkYe",
        "colab_type": "code",
        "colab": {}
      },
      "source": [
        "rf_classifier_low_depth = ensemble.RandomForestClassifier(n_estimators = 50, max_depth = 2, random_state = 1)"
      ],
      "execution_count": 0,
      "outputs": []
    },
    {
      "cell_type": "code",
      "metadata": {
        "id": "iUAqYLy1bkYh",
        "colab_type": "code",
        "colab": {}
      },
      "source": [
        "train_sizes, train_scores, test_scores = learning_curve(rf_classifier_low_depth, bioresponce_data, bioresponce_target, \n",
        "                                                        train_sizes=np.arange(0.1,1., 0.2), \n",
        "                                                        cv=3, scoring='accuracy')"
      ],
      "execution_count": 0,
      "outputs": []
    },
    {
      "cell_type": "code",
      "metadata": {
        "id": "617QEpfJbkYj",
        "colab_type": "code",
        "outputId": "bc5cb2ef-56aa-4304-b43a-240693346fe3",
        "colab": {
          "base_uri": "https://localhost:8080/",
          "height": 68
        }
      },
      "source": [
        "print (train_sizes)\n",
        "print (train_scores.mean(axis = 1))\n",
        "print (test_scores.mean(axis = 1))"
      ],
      "execution_count": 0,
      "outputs": [
        {
          "output_type": "stream",
          "text": [
            "[ 250  750 1250 1750 2250]\n",
            "[0.74933333 0.71333333 0.68453333 0.69104762 0.69022222]\n",
            "[0.62356685 0.64195598 0.65369955 0.66248974 0.66728527]\n"
          ],
          "name": "stdout"
        }
      ]
    },
    {
      "cell_type": "code",
      "metadata": {
        "id": "FjfHQVz_bkYl",
        "colab_type": "code",
        "outputId": "d8153b95-b450-4f43-e921-a307b4705b1b",
        "colab": {
          "base_uri": "https://localhost:8080/",
          "height": 282
        }
      },
      "source": [
        "pylab.grid(True)\n",
        "pylab.plot(train_sizes, train_scores.mean(axis = 1), 'g-', marker='o', label='train')\n",
        "pylab.plot(train_sizes, test_scores.mean(axis = 1), 'r-', marker='o', label='test')\n",
        "pylab.ylim((0.0, 1.05))\n",
        "pylab.legend(loc='lower right')"
      ],
      "execution_count": 0,
      "outputs": [
        {
          "output_type": "execute_result",
          "data": {
            "text/plain": [
              "<matplotlib.legend.Legend at 0x7f8f5a8d4390>"
            ]
          },
          "metadata": {
            "tags": []
          },
          "execution_count": 17
        },
        {
          "output_type": "display_data",
          "data": {
            "image/png": "[encoded data removed]",
            "text/plain": [
              "<Figure size 432x288 with 1 Axes>"
            ]
          },
          "metadata": {
            "tags": []
          }
        }
      ]
    },
    {
      "cell_type": "markdown",
      "metadata": {
        "id": "_ZtIgYKoqm3V",
        "colab_type": "text"
      },
      "source": [
        "As we can see, train and test errors are pretty same after 1250 objects in training dataset. There is no point in further enlargement of training data.\n",
        "\n",
        "Let's see what will happen if we will increase the depth of decision trees in the random forest."
      ]
    },
    {
      "cell_type": "markdown",
      "metadata": {
        "id": "WpdhqEpPbkYo",
        "colab_type": "text"
      },
      "source": [
        "#### Learning curves for decision trees with bigger depth"
      ]
    },
    {
      "cell_type": "code",
      "metadata": {
        "id": "rguhH3CNbkYo",
        "colab_type": "code",
        "colab": {}
      },
      "source": [
        "rf_classifier = ensemble.RandomForestClassifier(n_estimators = 50, max_depth = 10, random_state = 1)"
      ],
      "execution_count": 0,
      "outputs": []
    },
    {
      "cell_type": "code",
      "metadata": {
        "id": "6RWuSrasbkYr",
        "colab_type": "code",
        "colab": {}
      },
      "source": [
        "train_sizes, train_scores, test_scores = learning_curve(rf_classifier, bioresponce_data, bioresponce_target, \n",
        "                                                        train_sizes=np.arange(0.1,1, 0.2), \n",
        "                                                        cv=3, scoring='accuracy')"
      ],
      "execution_count": 0,
      "outputs": []
    },
    {
      "cell_type": "code",
      "metadata": {
        "id": "0wxrNPt7bkYu",
        "colab_type": "code",
        "outputId": "d4e873d7-0b34-438d-e922-2a452b40be85",
        "colab": {
          "base_uri": "https://localhost:8080/",
          "height": 282
        }
      },
      "source": [
        "pylab.grid(True)\n",
        "pylab.plot(train_sizes, train_scores.mean(axis = 1), 'g-', marker='o', label='train')\n",
        "pylab.plot(train_sizes, test_scores.mean(axis = 1), 'r-', marker='o', label='test')\n",
        "pylab.ylim((0.0, 1.05))\n",
        "pylab.legend(loc='lower right')"
      ],
      "execution_count": 0,
      "outputs": [
        {
          "output_type": "execute_result",
          "data": {
            "text/plain": [
              "<matplotlib.legend.Legend at 0x7f8f5a847470>"
            ]
          },
          "metadata": {
            "tags": []
          },
          "execution_count": 20
        },
        {
          "output_type": "display_data",
          "data": {
            "image/png": "[encoded data removed]",
            "text/plain": [
              "<Figure size 432x288 with 1 Axes>"
            ]
          },
          "metadata": {
            "tags": []
          }
        }
      ]
    },
    {
      "cell_type": "markdown",
      "metadata": {
        "id": "hXMuntLprPU5",
        "colab_type": "text"
      },
      "source": [
        "We can see, that with the growth of the training dataset, the score on the test continues to grow. In the end, it begins to grow slower, but nevertheless, the trend is noticeable. The same can be said about training - the score continues to fall not very fast. From here we can conclude that the model of this complexity really gets some advantages from the fact that we add objects in the training dataset. In this case, it makes sense to increase the training dataset."
      ]
    }
  ]
}