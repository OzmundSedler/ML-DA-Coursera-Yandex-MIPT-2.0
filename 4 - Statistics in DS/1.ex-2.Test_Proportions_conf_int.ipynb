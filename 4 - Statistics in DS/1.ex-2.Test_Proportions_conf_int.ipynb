{
  "nbformat": 4,
  "nbformat_minor": 0,
  "metadata": {
    "kernelspec": {
      "name": "python3",
      "display_name": "Python 3"
    },
    "colab": {
      "name": "1.ex-2.Test Proportions conf int.ipynb",
      "provenance": []
    }
  },
  "cells": [
    {
      "cell_type": "markdown",
      "metadata": {
        "id": "bwQG0g7QO_YS",
        "colab_type": "text"
      },
      "source": [
        "# Conf int for proportions"
      ]
    },
    {
      "cell_type": "code",
      "metadata": {
        "id": "mHLDnWHJO_YU",
        "colab_type": "code",
        "colab": {}
      },
      "source": [
        "import numpy as np\n",
        "\n",
        "from IPython.core.interactiveshell import InteractiveShell\n",
        "InteractiveShell.ast_node_interactivity = \"all\""
      ],
      "execution_count": 0,
      "outputs": []
    },
    {
      "cell_type": "markdown",
      "metadata": {
        "id": "Zy5nTkk2O_Yi",
        "colab_type": "text"
      },
      "source": [
        "Most mammals are unable to digest lactose, which is capable of in milk, in adulthood. In humans, the lactase enzyme encoded by the LCT gene is responsible for the breakdown of lactose. This function continues to function throughout life. The distribution of this gene variant varies significantly among different genetic populations.\n",
        "\n",
        "\n",
        "Of the 50 Mayans studied, 13910T was detected in one. Build a normal 95% confidence interval for the proportion of carriers of variant 13910T in the Mayan population. What is the value of its lower boundary? Round the answer to 4 digits after the decimal point"
      ]
    },
    {
      "cell_type": "code",
      "metadata": {
        "id": "OK9_HASsO_Yj",
        "colab_type": "code",
        "colab": {}
      },
      "source": [
        "size = 50\n",
        "data_gen = np.zeros(size)\n",
        "data_gen[0] = 1"
      ],
      "execution_count": 0,
      "outputs": []
    },
    {
      "cell_type": "code",
      "metadata": {
        "id": "pXKv7qfpO_Yt",
        "colab_type": "code",
        "outputId": "2cfb43ea-d2d7-4913-8876-340eff307513",
        "colab": {
          "base_uri": "https://localhost:8080/",
          "height": 51
        }
      },
      "source": [
        "from statsmodels.stats.proportion import proportion_confint"
      ],
      "execution_count": 0,
      "outputs": [
        {
          "output_type": "stream",
          "text": [
            "/usr/local/lib/python3.6/dist-packages/statsmodels/tools/_testing.py:19: FutureWarning: pandas.util.testing is deprecated. Use the functions in the public API at pandas.testing instead.\n",
            "  import pandas.util.testing as tm\n"
          ],
          "name": "stderr"
        }
      ]
    },
    {
      "cell_type": "code",
      "metadata": {
        "id": "Eow_Fpy6O_Yy",
        "colab_type": "code",
        "outputId": "b227500a-b086-4bf5-a089-694513bdb518",
        "colab": {
          "base_uri": "https://localhost:8080/",
          "height": 34
        }
      },
      "source": [
        "normal_interval = proportion_confint(sum(data_gen), len(data_gen), method = 'normal')\n",
        "print('Normal interval [%.4f, %.4f] with width %f' % (normal_interval[0],\n",
        "                                                  normal_interval[1], \n",
        "                                                  normal_interval[1] - normal_interval[0]))"
      ],
      "execution_count": 0,
      "outputs": [
        {
          "output_type": "stream",
          "text": [
            "Normal interval [0.0000, 0.0588] with width 0.058805\n"
          ],
          "name": "stdout"
        }
      ]
    },
    {
      "cell_type": "markdown",
      "metadata": {
        "id": "ggNpezb5O_Y4",
        "colab_type": "text"
      },
      "source": [
        "Under the previous task, build a 95% Wilson confidence interval for the proportion of carriers of variant 13910T in the Mayan population. What is its lower boundary equal to? Round the answer to 4 digits after the decimal point."
      ]
    },
    {
      "cell_type": "code",
      "metadata": {
        "id": "9YuPnvHqO_Y5",
        "colab_type": "code",
        "outputId": "b2db39b5-8c2e-4d0d-903b-dc3a6829a7bb",
        "colab": {
          "base_uri": "https://localhost:8080/",
          "height": 34
        }
      },
      "source": [
        "wilson_interval = proportion_confint(sum(data_gen), len(data_gen), method = 'wilson')\n",
        "print('Wilson interval [%.4f, %.4f] with width %f' % (wilson_interval[0],\n",
        "                                                  wilson_interval[1], \n",
        "                                                  wilson_interval[1] - wilson_interval[0]))"
      ],
      "execution_count": 0,
      "outputs": [
        {
          "output_type": "stream",
          "text": [
            "Wilson interval [0.0035, 0.1050] with width 0.101415\n"
          ],
          "name": "stdout"
        }
      ]
    },
    {
      "cell_type": "markdown",
      "metadata": {
        "id": "7I6iVB9TO_ZE",
        "colab_type": "text"
      },
      "source": [
        "Let the Mayan population have 2% of the carriers of the 13910T variant, as in the sample that we investigated. What sample size is needed to use the normal interval to estimate the proportion of carriers of the 13910T gene with an accuracy of ± 0.01 at a confidence level of 95%?"
      ]
    },
    {
      "cell_type": "code",
      "metadata": {
        "id": "s6qo45STO_ZF",
        "colab_type": "code",
        "colab": {}
      },
      "source": [
        "from statsmodels.stats.proportion import samplesize_confint_proportion"
      ],
      "execution_count": 0,
      "outputs": []
    },
    {
      "cell_type": "code",
      "metadata": {
        "id": "T2ATX1KYO_ZO",
        "colab_type": "code",
        "outputId": "8776dcdf-faf6-4d9c-b10d-381e8fb97338",
        "colab": {
          "base_uri": "https://localhost:8080/",
          "height": 34
        }
      },
      "source": [
        "n_samples = int(np.ceil(samplesize_confint_proportion(data_gen.mean(), 0.01)))\n",
        "n_samples"
      ],
      "execution_count": 0,
      "outputs": [
        {
          "output_type": "execute_result",
          "data": {
            "text/plain": [
              "753"
            ]
          },
          "metadata": {
            "tags": []
          },
          "execution_count": 7
        }
      ]
    },
    {
      "cell_type": "markdown",
      "metadata": {
        "id": "npOkZ4EZO_Zf",
        "colab_type": "text"
      },
      "source": [
        "\n",
        "Plot a graph of the dependence of the sample size necessary for estimation for the proportion of carriers of the 13910T gene with an accuracy of ± 0.01 at a confidence level of 95% on the unknown parameter p. Look at which p-value you need the most subjects. Do you think it is likely that the sample we are analyzing is taken from a random variable with this parameter value?\n",
        "\n",
        "No matter how you answer the last question, it is still useful to consider the sample size necessary for such p - this gives the most pessimistic estimate of the required sample size.\n",
        "\n",
        "What is the worst-case sample size needed to use the normal interval to estimate the proportion of carriers of the 13910T gene with an accuracy of ± 0.01 at a confidence level of 95%?"
      ]
    },
    {
      "cell_type": "code",
      "metadata": {
        "id": "ougJT3kZO_Zg",
        "colab_type": "code",
        "colab": {}
      },
      "source": [
        "import matplotlib.pyplot as plt\n",
        "%matplotlib inline\n",
        "import seaborn as sns"
      ],
      "execution_count": 0,
      "outputs": []
    },
    {
      "cell_type": "code",
      "metadata": {
        "id": "WNtnoZuqO_Zq",
        "colab_type": "code",
        "outputId": "7375cdfd-ccc1-4d7e-f670-64b3a52c1865",
        "colab": {
          "base_uri": "https://localhost:8080/",
          "height": 187
        }
      },
      "source": [
        "proportion = np.linspace(0, 1, 101)\n",
        "proportion"
      ],
      "execution_count": 0,
      "outputs": [
        {
          "output_type": "execute_result",
          "data": {
            "text/plain": [
              "array([0.  , 0.01, 0.02, 0.03, 0.04, 0.05, 0.06, 0.07, 0.08, 0.09, 0.1 ,\n",
              "       0.11, 0.12, 0.13, 0.14, 0.15, 0.16, 0.17, 0.18, 0.19, 0.2 , 0.21,\n",
              "       0.22, 0.23, 0.24, 0.25, 0.26, 0.27, 0.28, 0.29, 0.3 , 0.31, 0.32,\n",
              "       0.33, 0.34, 0.35, 0.36, 0.37, 0.38, 0.39, 0.4 , 0.41, 0.42, 0.43,\n",
              "       0.44, 0.45, 0.46, 0.47, 0.48, 0.49, 0.5 , 0.51, 0.52, 0.53, 0.54,\n",
              "       0.55, 0.56, 0.57, 0.58, 0.59, 0.6 , 0.61, 0.62, 0.63, 0.64, 0.65,\n",
              "       0.66, 0.67, 0.68, 0.69, 0.7 , 0.71, 0.72, 0.73, 0.74, 0.75, 0.76,\n",
              "       0.77, 0.78, 0.79, 0.8 , 0.81, 0.82, 0.83, 0.84, 0.85, 0.86, 0.87,\n",
              "       0.88, 0.89, 0.9 , 0.91, 0.92, 0.93, 0.94, 0.95, 0.96, 0.97, 0.98,\n",
              "       0.99, 1.  ])"
            ]
          },
          "metadata": {
            "tags": []
          },
          "execution_count": 9
        }
      ]
    },
    {
      "cell_type": "code",
      "metadata": {
        "id": "YGKj-a37O_Zv",
        "colab_type": "code",
        "outputId": "3a8a0588-b3fc-4e3c-a048-f6b4cdb053fb",
        "colab": {
          "base_uri": "https://localhost:8080/",
          "height": 221
        }
      },
      "source": [
        "n_samples = np.empty(proportion.shape)\n",
        "for i, p in enumerate(proportion):\n",
        "    n_samples[i] = int(np.ceil(samplesize_confint_proportion(p, 0.01)))\n",
        "n_samples"
      ],
      "execution_count": 0,
      "outputs": [
        {
          "output_type": "execute_result",
          "data": {
            "text/plain": [
              "array([   0.,  381.,  753., 1118., 1476., 1825., 2167., 2501., 2828.,\n",
              "       3147., 3458., 3761., 4057., 4345., 4626., 4898., 5163., 5421.,\n",
              "       5670., 5913., 6147., 6373., 6592., 6804., 7007., 7203., 7391.,\n",
              "       7572., 7745., 7910., 8068., 8217., 8360., 8494., 8621., 8740.,\n",
              "       8851., 8955., 9051., 9139., 9220., 9293., 9358., 9416., 9466.,\n",
              "       9508., 9543., 9570., 9589., 9600., 9604., 9600., 9589., 9570.,\n",
              "       9543., 9508., 9466., 9416., 9358., 9293., 9220., 9139., 9051.,\n",
              "       8955., 8851., 8740., 8621., 8494., 8360., 8217., 8068., 7910.,\n",
              "       7745., 7572., 7391., 7203., 7007., 6804., 6592., 6373., 6147.,\n",
              "       5913., 5670., 5421., 5163., 4898., 4626., 4345., 4057., 3761.,\n",
              "       3458., 3147., 2828., 2501., 2167., 1825., 1476., 1118.,  753.,\n",
              "        381.,    0.])"
            ]
          },
          "metadata": {
            "tags": []
          },
          "execution_count": 10
        }
      ]
    },
    {
      "cell_type": "code",
      "metadata": {
        "id": "pwJFRZ8tO_aG",
        "colab_type": "code",
        "outputId": "a4685beb-aa13-4091-d49e-d52afe4065fb",
        "colab": {
          "base_uri": "https://localhost:8080/",
          "height": 268
        }
      },
      "source": [
        "plt.plot(proportion, n_samples);"
      ],
      "execution_count": 0,
      "outputs": [
        {
          "output_type": "display_data",
          "data": {
            "image/png": "[encoded data removed]",
            "text/plain": [
              "<Figure size 432x288 with 1 Axes>"
            ]
          },
          "metadata": {
            "tags": []
          }
        }
      ]
    },
    {
      "cell_type": "code",
      "metadata": {
        "id": "vV-Mx34DO_aS",
        "colab_type": "code",
        "outputId": "51c2037e-e52d-4db6-88b5-f70276c1a97e",
        "colab": {
          "base_uri": "https://localhost:8080/",
          "height": 34
        }
      },
      "source": [
        "n_samples[np.where(proportion == 0.5)]"
      ],
      "execution_count": 0,
      "outputs": [
        {
          "output_type": "execute_result",
          "data": {
            "text/plain": [
              "array([9604.])"
            ]
          },
          "metadata": {
            "tags": []
          },
          "execution_count": 12
        }
      ]
    },
    {
      "cell_type": "code",
      "metadata": {
        "id": "qsCYbhvWQRKW",
        "colab_type": "code",
        "colab": {}
      },
      "source": [
        ""
      ],
      "execution_count": 0,
      "outputs": []
    }
  ]
}