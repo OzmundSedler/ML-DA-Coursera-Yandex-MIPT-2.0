{
  "nbformat": 4,
  "nbformat_minor": 0,
  "metadata": {
    "kernelspec": {
      "name": "python3",
      "display_name": "Python 3"
    },
    "colab": {
      "name": "1.ex-3.Test Bootstrap conf int.ipynb",
      "provenance": [],
      "collapsed_sections": []
    }
  },
  "cells": [
    {
      "cell_type": "markdown",
      "metadata": {
        "id": "OFdQf_esRDBB",
        "colab_type": "text"
      },
      "source": [
        "# Bootstrap conf int test"
      ]
    },
    {
      "cell_type": "code",
      "metadata": {
        "id": "2pebwf1cRDBE",
        "colab_type": "code",
        "colab": {}
      },
      "source": [
        "from __future__ import division\n",
        "import numpy as np\n",
        "\n",
        "from IPython.core.interactiveshell import InteractiveShell\n",
        "InteractiveShell.ast_node_interactivity = \"all\""
      ],
      "execution_count": 0,
      "outputs": []
    },
    {
      "cell_type": "markdown",
      "metadata": {
        "id": "3Nd9sgs0RDBL",
        "colab_type": "text"
      },
      "source": [
        "Let's clarify the rule of three sigma. Statement: 99.7% of the probabilistic mass of the random variable X∼N (μ, σ2) lies in the range μ ± c⋅σ. What is the exact value of the constant c equal to? Round the answer to four digits after the decimal point."
      ]
    },
    {
      "cell_type": "code",
      "metadata": {
        "id": "rjZhqgvnRDBM",
        "colab_type": "code",
        "colab": {
          "base_uri": "https://localhost:8080/",
          "height": 34
        },
        "outputId": "e59c62c7-3552-42aa-e8ba-92809ef662e3"
      },
      "source": [
        "from scipy import stats\n",
        "print('Answer: %.4f' % stats.norm.ppf(1-0.003/2))"
      ],
      "execution_count": 2,
      "outputs": [
        {
          "output_type": "stream",
          "text": [
            "Answer: 2.9677\n"
          ],
          "name": "stdout"
        }
      ]
    },
    {
      "cell_type": "markdown",
      "metadata": {
        "id": "7_VqIrB_RDBZ",
        "colab_type": "text"
      },
      "source": [
        "In a five-year randomized study at Harvard Medical School, 11037 subjects took aspirin every other day, and another 11034 took a placebo. The study was blind, that is, the subjects did not know what they were taking.\n",
        "\n",
        "For 5 years, a heart attack occurred in 104 subjects taking aspirin, and in 189 taking placebo.\n",
        "\n",
        "Estimate how much the likelihood of a heart attack decreases with aspirin. Round the answer to four digits after the decimal point."
      ]
    },
    {
      "cell_type": "code",
      "metadata": {
        "id": "cbiHZ7tnRDBb",
        "colab_type": "code",
        "colab": {}
      },
      "source": [
        "aspirin_data = np.array( [1 if i<104 else 0 for i in range(11037)] )\n",
        "placebo_data = np.array( [1 if i<189 else 0 for i in range(11034)] )"
      ],
      "execution_count": 0,
      "outputs": []
    },
    {
      "cell_type": "code",
      "metadata": {
        "scrolled": true,
        "id": "I5l8iCE9RDBj",
        "colab_type": "code",
        "colab": {
          "base_uri": "https://localhost:8080/",
          "height": 68
        },
        "outputId": "9a41495e-dd91-4f47-d476-9de8f94dfa6b"
      },
      "source": [
        "prob_infarction_aspirin = aspirin_data.sum() / aspirin_data.shape[0]\n",
        "prob_infarction_placebo = placebo_data.sum() / placebo_data.shape[0]\n",
        "print('Infarction probability (aspirin): %.4f' % prob_infarction_aspirin)\n",
        "print('Infarction probability (placebo): %.4f' % prob_infarction_placebo)\n",
        "print('Infarction probability decrease: %.4f' % (prob_infarction_placebo - prob_infarction_aspirin))"
      ],
      "execution_count": 4,
      "outputs": [
        {
          "output_type": "stream",
          "text": [
            "Infarction probability (aspirin): 0.0094\n",
            "Infarction probability (placebo): 0.0171\n",
            "Infarction probability decrease: 0.0077\n"
          ],
          "name": "stdout"
        }
      ]
    },
    {
      "cell_type": "markdown",
      "metadata": {
        "id": "VBIs5orVRDBo",
        "colab_type": "text"
      },
      "source": [
        "Now calculate a 95% confidence interval to reduce the likelihood of a heart attack when taking aspirin. What is it's upper bound equal to? Round the answer to four digits after the decimal point."
      ]
    },
    {
      "cell_type": "code",
      "metadata": {
        "id": "wJvgJI9sRDBp",
        "colab_type": "code",
        "colab": {}
      },
      "source": [
        "def proportions_confint_diff_ind(sample1, sample2, alpha=0.05):    \n",
        "    z = stats.norm.ppf(1 - alpha / 2.)   \n",
        "    p1 = float(sum(sample1)) / len(sample1)\n",
        "    p2 = float(sum(sample2)) / len(sample2)\n",
        "    \n",
        "    left_boundary = (p1 - p2) - z * np.sqrt(p1 * (1 - p1)/ len(sample1) + p2 * (1 - p2)/ len(sample2))\n",
        "    right_boundary = (p1 - p2) + z * np.sqrt(p1 * (1 - p1)/ len(sample1) + p2 * (1 - p2)/ len(sample2))\n",
        "    \n",
        "    return (left_boundary, right_boundary)"
      ],
      "execution_count": 0,
      "outputs": []
    },
    {
      "cell_type": "code",
      "metadata": {
        "id": "qEB_UPhLRDBv",
        "colab_type": "code",
        "colab": {
          "base_uri": "https://localhost:8080/",
          "height": 34
        },
        "outputId": "f00f55ef-572d-4b6e-fb53-56c93d6c553c"
      },
      "source": [
        "print('Confidence interval: [%.4f, %.4f]' % proportions_confint_diff_ind(placebo_data, aspirin_data))"
      ],
      "execution_count": 6,
      "outputs": [
        {
          "output_type": "stream",
          "text": [
            "Confidence interval: [0.0047, 0.0107]\n"
          ],
          "name": "stdout"
        }
      ]
    },
    {
      "cell_type": "markdown",
      "metadata": {
        "id": "Ygr3wl0RRDB7",
        "colab_type": "text"
      },
      "source": [
        "Let's continue to analyze the data from an experiment at Harvard Medical School.\n",
        "\n",
        "For Bernoulli random variables X∼Ber (p), the value p1 − p, which is called odds, is often calculated. To estimate the chances of the sample, substitute p ^ with p ^. For example, the chances of a heart attack in the control group taking a placebo can be estimated as\n",
        "\n",
        "Estimate how many times the chances of a heart attack are reduced with regular use of aspirin. Round the answer to four digits after the decimal point."
      ]
    },
    {
      "cell_type": "code",
      "metadata": {
        "id": "empEeEmZRDB8",
        "colab_type": "code",
        "colab": {}
      },
      "source": [
        "def odds(data):\n",
        "    p = data.sum() / data.shape[0]\n",
        "    return p / (1 - p)"
      ],
      "execution_count": 0,
      "outputs": []
    },
    {
      "cell_type": "code",
      "metadata": {
        "id": "BKvNl4J0RDCA",
        "colab_type": "code",
        "colab": {
          "base_uri": "https://localhost:8080/",
          "height": 51
        },
        "outputId": "262f6ffa-23f0-4dc4-b392-aaa30af6bf8c"
      },
      "source": [
        "odds_aspirin = odds(aspirin_data)\n",
        "print('Odds aspirin: %.4f' % odds_aspirin)\n",
        "odds_placebo = odds(placebo_data)\n",
        "print('Odds aspirin: %.4f' % odds_placebo)"
      ],
      "execution_count": 8,
      "outputs": [
        {
          "output_type": "stream",
          "text": [
            "Odds aspirin: 0.0095\n",
            "Odds aspirin: 0.0174\n"
          ],
          "name": "stdout"
        }
      ]
    },
    {
      "cell_type": "code",
      "metadata": {
        "id": "a2G1FfM1RDCD",
        "colab_type": "code",
        "colab": {
          "base_uri": "https://localhost:8080/",
          "height": 34
        },
        "outputId": "0edf3186-36c8-49f4-b845-b2537290f54e"
      },
      "source": [
        "print('Times decrease of infarction: %.4f' % (odds_placebo / odds_aspirin))"
      ],
      "execution_count": 9,
      "outputs": [
        {
          "output_type": "stream",
          "text": [
            "Times decrease of infarction: 1.8321\n"
          ],
          "name": "stdout"
        }
      ]
    },
    {
      "cell_type": "markdown",
      "metadata": {
        "id": "9FFi77asRDCG",
        "colab_type": "text"
      },
      "source": [
        "The value that you calculated in the previous question is called the odds ratio. Build a 95% confidence interval for the odds ratio using the bootstrap. What is its lower boundary equal to? Round the answer to 4 digits after the decimal point.\n",
        "\n",
        "To get exactly the same confidence interval as ours:\n",
        "\n",
        "* compose outcome vectors in the control and test samples so that all units go first, and then all zeros;\n",
        "\n",
        "* set random seed = 0;\n",
        "\n",
        "make 1000 pseudo-samples from each patient group using the get_bootstrap_samples function."
      ]
    },
    {
      "cell_type": "code",
      "metadata": {
        "id": "Z6nCASPeRDCI",
        "colab_type": "code",
        "colab": {}
      },
      "source": [
        "def get_bootstrap_samples(data, n_samples):\n",
        "    indices = np.random.randint(0, len(data), (n_samples, len(data)))\n",
        "    samples = data[indices]\n",
        "    return samples"
      ],
      "execution_count": 0,
      "outputs": []
    },
    {
      "cell_type": "code",
      "metadata": {
        "id": "1NKaH5C2RDCO",
        "colab_type": "code",
        "colab": {}
      },
      "source": [
        "def stat_intervals(stat, alpha):\n",
        "    boundaries = np.percentile(stat, [100 * alpha / 2., 100 * (1 - alpha / 2.)])\n",
        "    return boundaries"
      ],
      "execution_count": 0,
      "outputs": []
    },
    {
      "cell_type": "code",
      "metadata": {
        "id": "vFPF_fStRDCR",
        "colab_type": "code",
        "colab": {}
      },
      "source": [
        "np.random.seed(0)\n",
        "odds_aspirin_data = np.array(list(map(odds, get_bootstrap_samples(aspirin_data, 1000))))\n",
        "odds_placebo_data = np.array(list(map(odds, get_bootstrap_samples(placebo_data, 1000))))"
      ],
      "execution_count": 0,
      "outputs": []
    },
    {
      "cell_type": "code",
      "metadata": {
        "id": "NC6WKPgrRDCV",
        "colab_type": "code",
        "colab": {
          "base_uri": "https://localhost:8080/",
          "height": 34
        },
        "outputId": "bbaf0cc4-7847-491a-ebd9-fed1c94d9f2e"
      },
      "source": [
        "print('95%% confidence interval for times decrease of infarction: %s' %\n",
        "      str(stat_intervals(odds_placebo_data / odds_aspirin_data, 0.05)))"
      ],
      "execution_count": 19,
      "outputs": [
        {
          "output_type": "stream",
          "text": [
            "95% confidence interval for times decrease of infarction: [1.44419465 2.34321168]\n"
          ],
          "name": "stdout"
        }
      ]
    },
    {
      "cell_type": "code",
      "metadata": {
        "id": "XPjsWJ6qR-6T",
        "colab_type": "code",
        "colab": {}
      },
      "source": [
        ""
      ],
      "execution_count": 0,
      "outputs": []
    }
  ]
}