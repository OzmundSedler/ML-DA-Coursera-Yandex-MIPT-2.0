{
  "nbformat": 4,
  "nbformat_minor": 0,
  "metadata": {
    "kernelspec": {
      "name": "python3",
      "display_name": "Python 3"
    },
    "colab": {
      "name": "1.ex-4.Test Hypothesis testing.ipynb",
      "provenance": [],
      "collapsed_sections": []
    }
  },
  "cells": [
    {
      "cell_type": "markdown",
      "metadata": {
        "id": "2yi-HhBFSkMq",
        "colab_type": "text"
      },
      "source": [
        "# Hypothesis tests"
      ]
    },
    {
      "cell_type": "markdown",
      "metadata": {
        "id": "ZN2zGqraSkMs",
        "colab_type": "text"
      },
      "source": [
        "According to the survey, 75% of restaurant workers say they experience significant stress at work that negatively affects their personal lives. A large restaurant chain polls 100 of its employees to find out if the stress level of workers in their restaurants is different from the average. 67 out of 100 workers reported high levels of stress.\n",
        "\n",
        "Count the significance level achieved, round the answer to four digits after the decimal point."
      ]
    },
    {
      "cell_type": "code",
      "metadata": {
        "id": "IJEYPGGdSkMt",
        "colab_type": "code",
        "colab": {
          "base_uri": "https://localhost:8080/",
          "height": 51
        },
        "outputId": "cb2a9f18-f02d-4ab3-b181-3e57c96d89be"
      },
      "source": [
        "from __future__ import division\n",
        "import numpy as np\n",
        "import pandas as pd\n",
        "from scipy import stats\n",
        "import matplotlib.pyplot as plt\n",
        "import seaborn as sns\n",
        "%matplotlib inline\n",
        "\n",
        "from IPython.core.interactiveshell import InteractiveShell\n",
        "InteractiveShell.ast_node_interactivity = \"all\""
      ],
      "execution_count": 1,
      "outputs": [
        {
          "output_type": "stream",
          "text": [
            "/usr/local/lib/python3.6/dist-packages/statsmodels/tools/_testing.py:19: FutureWarning: pandas.util.testing is deprecated. Use the functions in the public API at pandas.testing instead.\n",
            "  import pandas.util.testing as tm\n"
          ],
          "name": "stderr"
        }
      ]
    },
    {
      "cell_type": "code",
      "metadata": {
        "id": "rM3pKLmVSkMz",
        "colab_type": "code",
        "colab": {}
      },
      "source": [
        "n = 100\n",
        "prob = 0.75\n",
        "F_H0 = stats.binom(n, prob)"
      ],
      "execution_count": 0,
      "outputs": []
    },
    {
      "cell_type": "code",
      "metadata": {
        "id": "zL1OTJ2kSkM5",
        "colab_type": "code",
        "colab": {
          "base_uri": "https://localhost:8080/",
          "height": 282
        },
        "outputId": "eb68d0eb-0e27-4d80-99a8-91a7f4ed6b51"
      },
      "source": [
        "x = np.linspace(0,100,101)\n",
        "\n",
        "plt.bar(x, F_H0.pmf(x), align = 'center')\n",
        "plt.xlim(60, 90) \n",
        "plt.show()"
      ],
      "execution_count": 3,
      "outputs": [
        {
          "output_type": "execute_result",
          "data": {
            "text/plain": [
              "<BarContainer object of 101 artists>"
            ]
          },
          "metadata": {
            "tags": []
          },
          "execution_count": 3
        },
        {
          "output_type": "execute_result",
          "data": {
            "text/plain": [
              "(60.0, 90.0)"
            ]
          },
          "metadata": {
            "tags": []
          },
          "execution_count": 3
        },
        {
          "output_type": "display_data",
          "data": {
            "image/png": "[encoded data removed]",
            "text/plain": [
              "<Figure size 432x288 with 1 Axes>"
            ]
          },
          "metadata": {
            "tags": []
          }
        }
      ]
    },
    {
      "cell_type": "code",
      "metadata": {
        "id": "2HiIKjzwSkM-",
        "colab_type": "code",
        "colab": {
          "base_uri": "https://localhost:8080/",
          "height": 34
        },
        "outputId": "d5e48d56-a948-4f03-f329-054425619b91"
      },
      "source": [
        "print('p-value: %.4f' % stats.binom_test(67, 100, prob))"
      ],
      "execution_count": 4,
      "outputs": [
        {
          "output_type": "stream",
          "text": [
            "p-value: 0.0822\n"
          ],
          "name": "stdout"
        }
      ]
    },
    {
      "cell_type": "markdown",
      "metadata": {
        "id": "IveK7yD7SkNC",
        "colab_type": "text"
      },
      "source": [
        "<b>"
      ]
    },
    {
      "cell_type": "markdown",
      "metadata": {
        "id": "R825yFZ7SkND",
        "colab_type": "text"
      },
      "source": [
        "Imagine now that in another restaurant chain, only 22 out of 50 employees are experiencing significant stress. The hypothesis that 22/50 corresponds to 75% of the entire population is rejected by the method that you used in the previous task. How can this be explained? Select all possible options."
      ]
    },
    {
      "cell_type": "code",
      "metadata": {
        "id": "XGcGFvPTSkNE",
        "colab_type": "code",
        "colab": {
          "base_uri": "https://localhost:8080/",
          "height": 34
        },
        "outputId": "4c1c933f-64fd-45b0-9b77-d09fb629d883"
      },
      "source": [
        "print('p-value: %.10f' % stats.binom_test(22, 50, prob))"
      ],
      "execution_count": 5,
      "outputs": [
        {
          "output_type": "stream",
          "text": [
            "p-value: 0.0000034831\n"
          ],
          "name": "stdout"
        }
      ]
    },
    {
      "cell_type": "markdown",
      "metadata": {
        "id": "BAon21UkSkNJ",
        "colab_type": "text"
      },
      "source": [
        "<b>"
      ]
    },
    {
      "cell_type": "markdown",
      "metadata": {
        "id": "F-py9KwBSkNK",
        "colab_type": "text"
      },
      "source": [
        "The Wage Tract is a nature reserve in Tom County, Georgia, USA, in which trees have not been affected by human activity since the first settlers. For the reserve area 200x200 m in size, there is information about the coordinates of the pines (sn is the coordinate in the north-south direction, we are in the west-east direction, both from 0 to 200).\n",
        "\n",
        "pines.txt\n",
        "\n",
        "Let's check whether the spatial distribution of pines can be considered uniform, or whether they grow in clusters.\n",
        "\n",
        "Download the data, divide the area into 5x5 identical squares of 40x40 m in size, count the number of pines in each square (to get the same result as ours, use the scipy.stats.binned_statistic_2d function).\n",
        "\n",
        "If pines really grow evenly, what is the average expected number of pines in each square? The correct answer is two digits after the decimal point."
      ]
    },
    {
      "cell_type": "code",
      "metadata": {
        "id": "sRVvofbUSkNL",
        "colab_type": "code",
        "colab": {},
        "outputId": "cf651fd0-130a-4b0b-9769-0da0178a9639"
      },
      "source": [
        "pines_data = pd.read_table('pines.txt')\n",
        "pines_data.describe()\n",
        "pines_data.head()"
      ],
      "execution_count": 0,
      "outputs": [
        {
          "output_type": "execute_result",
          "data": {
            "text/html": [
              "<div>\n",
              "<style>\n",
              "    .dataframe thead tr:only-child th {\n",
              "        text-align: right;\n",
              "    }\n",
              "\n",
              "    .dataframe thead th {\n",
              "        text-align: left;\n",
              "    }\n",
              "\n",
              "    .dataframe tbody tr th {\n",
              "        vertical-align: top;\n",
              "    }\n",
              "</style>\n",
              "<table border=\"1\" class=\"dataframe\">\n",
              "  <thead>\n",
              "    <tr style=\"text-align: right;\">\n",
              "      <th></th>\n",
              "      <th>sn</th>\n",
              "      <th>we</th>\n",
              "    </tr>\n",
              "  </thead>\n",
              "  <tbody>\n",
              "    <tr>\n",
              "      <th>count</th>\n",
              "      <td>584.000000</td>\n",
              "      <td>584.000000</td>\n",
              "    </tr>\n",
              "    <tr>\n",
              "      <th>mean</th>\n",
              "      <td>98.735274</td>\n",
              "      <td>113.829281</td>\n",
              "    </tr>\n",
              "    <tr>\n",
              "      <th>std</th>\n",
              "      <td>56.523154</td>\n",
              "      <td>49.810725</td>\n",
              "    </tr>\n",
              "    <tr>\n",
              "      <th>min</th>\n",
              "      <td>0.000000</td>\n",
              "      <td>0.000000</td>\n",
              "    </tr>\n",
              "    <tr>\n",
              "      <th>25%</th>\n",
              "      <td>52.050000</td>\n",
              "      <td>79.125000</td>\n",
              "    </tr>\n",
              "    <tr>\n",
              "      <th>50%</th>\n",
              "      <td>101.450000</td>\n",
              "      <td>121.900000</td>\n",
              "    </tr>\n",
              "    <tr>\n",
              "      <th>75%</th>\n",
              "      <td>149.400000</td>\n",
              "      <td>149.725000</td>\n",
              "    </tr>\n",
              "    <tr>\n",
              "      <th>max</th>\n",
              "      <td>200.000000</td>\n",
              "      <td>200.000000</td>\n",
              "    </tr>\n",
              "  </tbody>\n",
              "</table>\n",
              "</div>"
            ],
            "text/plain": [
              "               sn          we\n",
              "count  584.000000  584.000000\n",
              "mean    98.735274  113.829281\n",
              "std     56.523154   49.810725\n",
              "min      0.000000    0.000000\n",
              "25%     52.050000   79.125000\n",
              "50%    101.450000  121.900000\n",
              "75%    149.400000  149.725000\n",
              "max    200.000000  200.000000"
            ]
          },
          "metadata": {
            "tags": []
          },
          "execution_count": 6
        },
        {
          "output_type": "execute_result",
          "data": {
            "text/html": [
              "<div>\n",
              "<style>\n",
              "    .dataframe thead tr:only-child th {\n",
              "        text-align: right;\n",
              "    }\n",
              "\n",
              "    .dataframe thead th {\n",
              "        text-align: left;\n",
              "    }\n",
              "\n",
              "    .dataframe tbody tr th {\n",
              "        vertical-align: top;\n",
              "    }\n",
              "</style>\n",
              "<table border=\"1\" class=\"dataframe\">\n",
              "  <thead>\n",
              "    <tr style=\"text-align: right;\">\n",
              "      <th></th>\n",
              "      <th>sn</th>\n",
              "      <th>we</th>\n",
              "    </tr>\n",
              "  </thead>\n",
              "  <tbody>\n",
              "    <tr>\n",
              "      <th>0</th>\n",
              "      <td>200.0</td>\n",
              "      <td>8.8</td>\n",
              "    </tr>\n",
              "    <tr>\n",
              "      <th>1</th>\n",
              "      <td>199.3</td>\n",
              "      <td>10.0</td>\n",
              "    </tr>\n",
              "    <tr>\n",
              "      <th>2</th>\n",
              "      <td>193.6</td>\n",
              "      <td>22.4</td>\n",
              "    </tr>\n",
              "    <tr>\n",
              "      <th>3</th>\n",
              "      <td>167.7</td>\n",
              "      <td>35.6</td>\n",
              "    </tr>\n",
              "    <tr>\n",
              "      <th>4</th>\n",
              "      <td>183.9</td>\n",
              "      <td>45.4</td>\n",
              "    </tr>\n",
              "  </tbody>\n",
              "</table>\n",
              "</div>"
            ],
            "text/plain": [
              "      sn    we\n",
              "0  200.0   8.8\n",
              "1  199.3  10.0\n",
              "2  193.6  22.4\n",
              "3  167.7  35.6\n",
              "4  183.9  45.4"
            ]
          },
          "metadata": {
            "tags": []
          },
          "execution_count": 6
        }
      ]
    },
    {
      "cell_type": "code",
      "metadata": {
        "id": "G8-ys9LXSkNS",
        "colab_type": "code",
        "colab": {},
        "outputId": "40060e03-d9ba-4abd-c65e-d86075014ca0"
      },
      "source": [
        "sns.pairplot(pines_data, size=4);"
      ],
      "execution_count": 0,
      "outputs": [
        {
          "output_type": "display_data",
          "data": {
            "image/png": "[encoded data removed]",
            "text/plain": [
              "<matplotlib.figure.Figure at 0xc132898>"
            ]
          },
          "metadata": {
            "tags": []
          }
        }
      ]
    },
    {
      "cell_type": "code",
      "metadata": {
        "id": "A0nRWNUBSkNX",
        "colab_type": "code",
        "colab": {},
        "outputId": "00db490f-621a-4617-f027-70372029dd58"
      },
      "source": [
        "sn_num, we_num = 5, 5\n",
        "\n",
        "trees_bins = stats.binned_statistic_2d(pines_data.sn, pines_data.we, None, statistic='count', bins=[sn_num, we_num])\n",
        "\n",
        "trees_squares_num = trees_bins.statistic\n",
        "trees_squares_num\n",
        "trees_bins.x_edge\n",
        "trees_bins.y_edge"
      ],
      "execution_count": 0,
      "outputs": [
        {
          "output_type": "execute_result",
          "data": {
            "text/plain": [
              "array([[ 18.,  26.,  29.,  25.,  20.],\n",
              "       [ 14.,  12.,  22.,  34.,  25.],\n",
              "       [ 12.,  24.,  15.,  50.,  37.],\n",
              "       [  8.,  19.,  31.,  50.,   7.],\n",
              "       [  7.,   8.,  37.,  27.,  27.]])"
            ]
          },
          "metadata": {
            "tags": []
          },
          "execution_count": 49
        },
        {
          "output_type": "execute_result",
          "data": {
            "text/plain": [
              "array([   0.,   40.,   80.,  120.,  160.,  200.])"
            ]
          },
          "metadata": {
            "tags": []
          },
          "execution_count": 49
        },
        {
          "output_type": "execute_result",
          "data": {
            "text/plain": [
              "array([   0.,   40.,   80.,  120.,  160.,  200.])"
            ]
          },
          "metadata": {
            "tags": []
          },
          "execution_count": 49
        }
      ]
    },
    {
      "cell_type": "code",
      "metadata": {
        "scrolled": true,
        "id": "vyPOLuAySkNf",
        "colab_type": "code",
        "colab": {},
        "outputId": "7e3ec4be-271c-40b5-a102-09360a278883"
      },
      "source": [
        "mean_trees_num = np.sum(trees_squares_num) / 25\n",
        "print(mean_trees_num)"
      ],
      "execution_count": 0,
      "outputs": [
        {
          "output_type": "stream",
          "text": [
            "23.36\n"
          ],
          "name": "stdout"
        }
      ]
    },
    {
      "cell_type": "markdown",
      "metadata": {
        "id": "Ag1yxhqWSkNj",
        "colab_type": "text"
      },
      "source": [
        "<b>"
      ]
    },
    {
      "cell_type": "markdown",
      "metadata": {
        "id": "deE9W2P2SkNk",
        "colab_type": "text"
      },
      "source": [
        "To compare the distribution of pines with a uniform, calculate the value of the chi-square statistics for the obtained 5x5 squares. Round the answer to two digits after the decimal point."
      ]
    },
    {
      "cell_type": "code",
      "metadata": {
        "id": "PUyyBC6sSkNl",
        "colab_type": "code",
        "colab": {},
        "outputId": "57d8a88b-82a5-4a99-c92f-493280e2b0c3"
      },
      "source": [
        "stats.chisquare(trees_squares_num.flatten(), ddof = 0)"
      ],
      "execution_count": 0,
      "outputs": [
        {
          "output_type": "execute_result",
          "data": {
            "text/plain": [
              "Power_divergenceResult(statistic=150.58904109589042, pvalue=2.5746697749672791e-20)"
            ]
          },
          "metadata": {
            "tags": []
          },
          "execution_count": 97
        }
      ]
    }
  ]
}